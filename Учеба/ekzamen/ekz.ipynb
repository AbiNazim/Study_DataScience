{
 "cells": [
  {
   "cell_type": "code",
   "execution_count": 1,
   "metadata": {},
   "outputs": [],
   "source": [
    "import pandas as pd\n",
    "import numpy as np\n",
    "import matplotlib.pyplot as plt\n",
    "import seaborn as sns\n",
    "import plotly.express as px\n",
    "import plotly.graph_objects as go"
   ]
  },
  {
   "cell_type": "code",
   "execution_count": 2,
   "metadata": {},
   "outputs": [],
   "source": [
    "df = pd.read_csv('new-site.csv', sep='\\t')"
   ]
  },
  {
   "cell_type": "code",
   "execution_count": 3,
   "metadata": {},
   "outputs": [
    {
     "data": {
      "text/html": [
       "<div>\n",
       "<style scoped>\n",
       "    .dataframe tbody tr th:only-of-type {\n",
       "        vertical-align: middle;\n",
       "    }\n",
       "\n",
       "    .dataframe tbody tr th {\n",
       "        vertical-align: top;\n",
       "    }\n",
       "\n",
       "    .dataframe thead th {\n",
       "        text-align: right;\n",
       "    }\n",
       "</style>\n",
       "<table border=\"1\" class=\"dataframe\">\n",
       "  <thead>\n",
       "    <tr style=\"text-align: right;\">\n",
       "      <th></th>\n",
       "      <th>site</th>\n",
       "      <th>dwell-time</th>\n",
       "    </tr>\n",
       "  </thead>\n",
       "  <tbody>\n",
       "    <tr>\n",
       "      <th>0</th>\n",
       "      <td>0</td>\n",
       "      <td>2</td>\n",
       "    </tr>\n",
       "    <tr>\n",
       "      <th>1</th>\n",
       "      <td>1</td>\n",
       "      <td>48</td>\n",
       "    </tr>\n",
       "    <tr>\n",
       "      <th>2</th>\n",
       "      <td>0</td>\n",
       "      <td>15</td>\n",
       "    </tr>\n",
       "    <tr>\n",
       "      <th>3</th>\n",
       "      <td>1</td>\n",
       "      <td>16</td>\n",
       "    </tr>\n",
       "    <tr>\n",
       "      <th>4</th>\n",
       "      <td>0</td>\n",
       "      <td>38</td>\n",
       "    </tr>\n",
       "    <tr>\n",
       "      <th>...</th>\n",
       "      <td>...</td>\n",
       "      <td>...</td>\n",
       "    </tr>\n",
       "    <tr>\n",
       "      <th>295</th>\n",
       "      <td>0</td>\n",
       "      <td>22</td>\n",
       "    </tr>\n",
       "    <tr>\n",
       "      <th>296</th>\n",
       "      <td>0</td>\n",
       "      <td>7</td>\n",
       "    </tr>\n",
       "    <tr>\n",
       "      <th>297</th>\n",
       "      <td>1</td>\n",
       "      <td>144</td>\n",
       "    </tr>\n",
       "    <tr>\n",
       "      <th>298</th>\n",
       "      <td>0</td>\n",
       "      <td>89</td>\n",
       "    </tr>\n",
       "    <tr>\n",
       "      <th>299</th>\n",
       "      <td>0</td>\n",
       "      <td>138</td>\n",
       "    </tr>\n",
       "  </tbody>\n",
       "</table>\n",
       "<p>300 rows × 2 columns</p>\n",
       "</div>"
      ],
      "text/plain": [
       "     site  dwell-time\n",
       "0       0           2\n",
       "1       1          48\n",
       "2       0          15\n",
       "3       1          16\n",
       "4       0          38\n",
       "..    ...         ...\n",
       "295     0          22\n",
       "296     0           7\n",
       "297     1         144\n",
       "298     0          89\n",
       "299     0         138\n",
       "\n",
       "[300 rows x 2 columns]"
      ]
     },
     "execution_count": 3,
     "metadata": {},
     "output_type": "execute_result"
    }
   ],
   "source": [
    "df"
   ]
  },
  {
   "cell_type": "code",
   "execution_count": 4,
   "metadata": {},
   "outputs": [
    {
     "name": "stdout",
     "output_type": "stream",
     "text": [
      "Среднее время на сайте для группы A: 91.0\n",
      "Среднее время на сайте для группы B: 88.0\n"
     ]
    }
   ],
   "source": [
    "# Предположим, что df — это ваш DataFrame с данными\n",
    "\n",
    "# Вычисляем среднее время на сайте для группы A\n",
    "total_A = np.round(df[df['site'] == 0]['dwell-time'].mean())\n",
    "\n",
    "# Вычисляем среднее время на сайте для группы B\n",
    "total_B = np.round(df[df['site'] == 1]['dwell-time'].mean())\n",
    "\n",
    "# Выводим результаты\n",
    "print(\"Среднее время на сайте для группы A:\", total_A)\n",
    "print(\"Среднее время на сайте для группы B:\", total_B)"
   ]
  },
  {
   "cell_type": "code",
   "execution_count": 5,
   "metadata": {},
   "outputs": [
    {
     "name": "stdout",
     "output_type": "stream",
     "text": [
      "{np.int64(0): 'Распределение не нормальное', np.int64(1): 'Распределение не нормальное'}\n"
     ]
    }
   ],
   "source": [
    "import pandas as pd\n",
    "from scipy.stats import shapiro\n",
    "\n",
    "def check_normality(df, group_col, time_col, alpha=0.05):\n",
    "    \"\"\"\n",
    "    Проверяет нормальность распределения времени пребывания на сайте для двух групп.\n",
    "\n",
    "    Параметры:\n",
    "    - df: DataFrame с данными.\n",
    "    - group_col: Название колонки с группами (например, 'site').\n",
    "    - time_col: Название колонки с временем пребывания на сайте (например, 'dwell-time').\n",
    "    - alpha: Уровень значимости (по умолчанию 0.05).\n",
    "\n",
    "    Возвращает:\n",
    "    - Словарь с результатами проверки для каждой группы.\n",
    "    \"\"\"\n",
    "    # Уникальные группы\n",
    "    groups = df[group_col].unique()\n",
    "    \n",
    "    # Результаты проверки\n",
    "    results = {}\n",
    "    \n",
    "    for group in groups:\n",
    "        # Выборка данных для группы\n",
    "        data = df[df[group_col] == group][time_col]\n",
    "        \n",
    "        # Тест Шапиро-Уилка на нормальность\n",
    "        stat, p_value = shapiro(data)\n",
    "        \n",
    "        # Проверка гипотезы\n",
    "        if p_value > alpha:\n",
    "            results[group] = \"Нормальное распределение\"\n",
    "        else:\n",
    "            results[group] = \"Распределение не нормальное\"\n",
    "    \n",
    "    return results\n",
    "\n",
    "# Проверка нормальности\n",
    "results = check_normality(df, group_col='site', time_col='dwell-time')\n",
    "print(results)"
   ]
  },
  {
   "cell_type": "code",
   "execution_count": 6,
   "metadata": {},
   "outputs": [
    {
     "name": "stdout",
     "output_type": "stream",
     "text": [
      "P-value: 0.895811197131841\n",
      "Время пребывания пользователей на сайте для групп А и B одинаково. Нет оснований полагать, что рекомендательная система увеличивает длительность сессии пользователей.\n"
     ]
    }
   ],
   "source": [
    "from scipy.stats import mannwhitneyu\n",
    "\n",
    "# Загрузка данных\n",
    "df = pd.read_csv('new-site.csv', sep='\\t')\n",
    "\n",
    "# Разделение данных на группы\n",
    "group_A = df[df['site'] == 0]['dwell-time']  # Группа A (site = 0)\n",
    "group_B = df[df['site'] == 1]['dwell-time']  # Группа B (site = 1)\n",
    "\n",
    "# Выполнение U-теста Манна — Уитни\n",
    "stat, p_value = mannwhitneyu(group_A, group_B, alternative='two-sided')  # Двусторонний тест\n",
    "print(f\"P-value: {p_value}\")\n",
    "\n",
    "# Интерпретация результата\n",
    "if p_value <= 0.05:\n",
    "    print(\"Время пребывания пользователей на сайте для групп А и B различно. Есть основания полагать, что рекомендательная система увеличивает длительность сессии пользователей.\")\n",
    "else:\n",
    "    print(\"Время пребывания пользователей на сайте для групп А и B одинаково. Нет оснований полагать, что рекомендательная система увеличивает длительность сессии пользователей.\")"
   ]
  }
 ],
 "metadata": {
  "kernelspec": {
   "display_name": "Python 3",
   "language": "python",
   "name": "python3"
  },
  "language_info": {
   "codemirror_mode": {
    "name": "ipython",
    "version": 3
   },
   "file_extension": ".py",
   "mimetype": "text/x-python",
   "name": "python",
   "nbconvert_exporter": "python",
   "pygments_lexer": "ipython3",
   "version": "3.12.3"
  }
 },
 "nbformat": 4,
 "nbformat_minor": 2
}
