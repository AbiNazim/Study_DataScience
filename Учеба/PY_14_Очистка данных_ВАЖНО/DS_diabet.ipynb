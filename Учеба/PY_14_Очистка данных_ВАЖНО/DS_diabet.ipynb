{
 "cells": [
  {
   "cell_type": "code",
   "execution_count": 811,
   "metadata": {},
   "outputs": [],
   "source": [
    "import pandas as pd\n",
    "import numpy as np\n",
    "import matplotlib.pyplot as plt\n",
    "import seaborn as sns\n"
   ]
  },
  {
   "cell_type": "code",
   "execution_count": 812,
   "metadata": {},
   "outputs": [
    {
     "data": {
      "text/html": [
       "<div>\n",
       "<style scoped>\n",
       "    .dataframe tbody tr th:only-of-type {\n",
       "        vertical-align: middle;\n",
       "    }\n",
       "\n",
       "    .dataframe tbody tr th {\n",
       "        vertical-align: top;\n",
       "    }\n",
       "\n",
       "    .dataframe thead th {\n",
       "        text-align: right;\n",
       "    }\n",
       "</style>\n",
       "<table border=\"1\" class=\"dataframe\">\n",
       "  <thead>\n",
       "    <tr style=\"text-align: right;\">\n",
       "      <th></th>\n",
       "      <th>Pregnancies</th>\n",
       "      <th>Glucose</th>\n",
       "      <th>BloodPressure</th>\n",
       "      <th>SkinThickness</th>\n",
       "      <th>Insulin</th>\n",
       "      <th>BMI</th>\n",
       "      <th>DiabetesPedigreeFunction</th>\n",
       "      <th>Age</th>\n",
       "      <th>Outcome</th>\n",
       "      <th>Gender</th>\n",
       "    </tr>\n",
       "  </thead>\n",
       "  <tbody>\n",
       "    <tr>\n",
       "      <th>0</th>\n",
       "      <td>6</td>\n",
       "      <td>98</td>\n",
       "      <td>58</td>\n",
       "      <td>33</td>\n",
       "      <td>190</td>\n",
       "      <td>34.0</td>\n",
       "      <td>0.430</td>\n",
       "      <td>43</td>\n",
       "      <td>0</td>\n",
       "      <td>Female</td>\n",
       "    </tr>\n",
       "    <tr>\n",
       "      <th>1</th>\n",
       "      <td>2</td>\n",
       "      <td>112</td>\n",
       "      <td>75</td>\n",
       "      <td>32</td>\n",
       "      <td>0</td>\n",
       "      <td>35.7</td>\n",
       "      <td>0.148</td>\n",
       "      <td>21</td>\n",
       "      <td>0</td>\n",
       "      <td>Female</td>\n",
       "    </tr>\n",
       "    <tr>\n",
       "      <th>2</th>\n",
       "      <td>2</td>\n",
       "      <td>108</td>\n",
       "      <td>64</td>\n",
       "      <td>0</td>\n",
       "      <td>0</td>\n",
       "      <td>30.8</td>\n",
       "      <td>0.158</td>\n",
       "      <td>21</td>\n",
       "      <td>0</td>\n",
       "      <td>Female</td>\n",
       "    </tr>\n",
       "    <tr>\n",
       "      <th>3</th>\n",
       "      <td>8</td>\n",
       "      <td>107</td>\n",
       "      <td>80</td>\n",
       "      <td>0</td>\n",
       "      <td>0</td>\n",
       "      <td>24.6</td>\n",
       "      <td>0.856</td>\n",
       "      <td>34</td>\n",
       "      <td>0</td>\n",
       "      <td>Female</td>\n",
       "    </tr>\n",
       "    <tr>\n",
       "      <th>4</th>\n",
       "      <td>7</td>\n",
       "      <td>136</td>\n",
       "      <td>90</td>\n",
       "      <td>0</td>\n",
       "      <td>0</td>\n",
       "      <td>29.9</td>\n",
       "      <td>0.210</td>\n",
       "      <td>50</td>\n",
       "      <td>0</td>\n",
       "      <td>Female</td>\n",
       "    </tr>\n",
       "  </tbody>\n",
       "</table>\n",
       "</div>"
      ],
      "text/plain": [
       "   Pregnancies  Glucose  BloodPressure  SkinThickness  Insulin   BMI  \\\n",
       "0            6       98             58             33      190  34.0   \n",
       "1            2      112             75             32        0  35.7   \n",
       "2            2      108             64              0        0  30.8   \n",
       "3            8      107             80              0        0  24.6   \n",
       "4            7      136             90              0        0  29.9   \n",
       "\n",
       "   DiabetesPedigreeFunction  Age  Outcome  Gender  \n",
       "0                     0.430   43        0  Female  \n",
       "1                     0.148   21        0  Female  \n",
       "2                     0.158   21        0  Female  \n",
       "3                     0.856   34        0  Female  \n",
       "4                     0.210   50        0  Female  "
      ]
     },
     "execution_count": 812,
     "metadata": {},
     "output_type": "execute_result"
    }
   ],
   "source": [
    "diabetes = pd.read_csv('data/diabetes_data.csv')\n",
    "diabetes.head()"
   ]
  },
  {
   "cell_type": "markdown",
   "metadata": {},
   "source": [
    "Pregnancies — количество беременностей.\n",
    "\n",
    "Glucose — концентрация глюкозы в плазме через два часа при пероральном тесте на толерантность к глюкозе.\n",
    "\n",
    "BloodPressure — диастолическое артериальное давление (мм рт. ст.).\n",
    "\n",
    "SkinThickness — толщина кожной складки трицепса (мм).\n",
    "\n",
    "Insulin — двухчасовой сывороточный инсулин (ме Ед/мл).\n",
    "\n",
    "BMI — индекс массы тела (вес в кг/(рост в м)**2).\n",
    "\n",
    "DiabetesPedigreeFunction — функция родословной диабета (чем она выше, тем выше шанс наследственной заболеваемости).\n",
    "\n",
    "Age — возраст.\n",
    "\n",
    "Outcome — наличие диабета (0 — нет, 1 — да)."
   ]
  },
  {
   "cell_type": "code",
   "execution_count": 813,
   "metadata": {},
   "outputs": [
    {
     "name": "stdout",
     "output_type": "stream",
     "text": [
      "<class 'pandas.core.frame.DataFrame'>\n",
      "RangeIndex: 778 entries, 0 to 777\n",
      "Data columns (total 10 columns):\n",
      " #   Column                    Non-Null Count  Dtype  \n",
      "---  ------                    --------------  -----  \n",
      " 0   Pregnancies               778 non-null    int64  \n",
      " 1   Glucose                   778 non-null    int64  \n",
      " 2   BloodPressure             778 non-null    int64  \n",
      " 3   SkinThickness             778 non-null    int64  \n",
      " 4   Insulin                   778 non-null    int64  \n",
      " 5   BMI                       778 non-null    float64\n",
      " 6   DiabetesPedigreeFunction  778 non-null    float64\n",
      " 7   Age                       778 non-null    int64  \n",
      " 8   Outcome                   778 non-null    int64  \n",
      " 9   Gender                    778 non-null    object \n",
      "dtypes: float64(2), int64(7), object(1)\n",
      "memory usage: 60.9+ KB\n"
     ]
    }
   ],
   "source": [
    "diabetes.info()"
   ]
  },
  {
   "cell_type": "markdown",
   "metadata": {},
   "source": [
    "# Начнём с поиска дубликатов в данных. Найдите все повторяющиеся строки в данных и удалите их. Для поиска используйте все признаки в данных. Сколько записей осталось в данных?"
   ]
  },
  {
   "cell_type": "code",
   "execution_count": 814,
   "metadata": {},
   "outputs": [
    {
     "name": "stdout",
     "output_type": "stream",
     "text": [
      "Число дубликтов: 10\n",
      "Результирующее число записей: 768\n"
     ]
    }
   ],
   "source": [
    "duplicates = diabetes[diabetes.duplicated()]\n",
    "print('Число дубликтов: {}'.format(duplicates.shape[0]))\n",
    "diabetes = diabetes.drop_duplicates()\n",
    "print('Результирующее число записей: {}'.format(diabetes.shape[0]))"
   ]
  },
  {
   "cell_type": "markdown",
   "metadata": {},
   "source": [
    "# Далее найдите все неинформативные признаки в данных и избавьтесь от них. В качестве порога информативности возьмите 0.95: удалите все признаки, для которых 95 % значений повторяются или 95 % записей уникальны. В ответ запишите имена признаков, которые вы нашли (без кавычек)."
   ]
  },
  {
   "cell_type": "code",
   "execution_count": 815,
   "metadata": {},
   "outputs": [
    {
     "name": "stdout",
     "output_type": "stream",
     "text": [
      "['Gender']\n"
     ]
    }
   ],
   "source": [
    "def low_informative_feature(data):\n",
    "    low_information_cols = []\n",
    "    for col in data.columns:\n",
    "        top_freq = data[col].value_counts(normalize=True).max()\n",
    "        nunique_ratio = data[col].nunique() / data[col].count()\n",
    "        if top_freq > 0.95:\n",
    "            low_information_cols.append(col)\n",
    "        if nunique_ratio > 0.95:\n",
    "            low_information_cols.append(col)\n",
    "    return low_information_cols\n",
    "low_information_cols = low_informative_feature(diabetes)\n",
    "print(low_information_cols)"
   ]
  },
  {
   "cell_type": "markdown",
   "metadata": {},
   "source": [
    "# Попробуйте найти пропуски в данных с помощью метода isnull().\n",
    "\n",
    "Спойлер: ничего не найдёте. А они есть! Просто они скрыты от наших глаз. В таблице пропуски в столбцах Glucose, BloodPressure, SkinThickness, Insulin и BMI обозначены нулём, поэтому традиционные методы поиска пропусков ничего вам не покажут. Давайте это исправим!\n",
    "\n",
    "Замените все записи, равные 0, в столбцах Glucose, BloodPressure, SkinThickness, Insulin и BMI на символ пропуска. Его вы можете взять из библиотеки numpy: np.nan.\n",
    "\n",
    "Какая доля пропусков содержится в столбце Insulin? Ответ округлите до сотых."
   ]
  },
  {
   "cell_type": "code",
   "execution_count": 816,
   "metadata": {},
   "outputs": [
    {
     "data": {
      "text/html": [
       "<div>\n",
       "<style scoped>\n",
       "    .dataframe tbody tr th:only-of-type {\n",
       "        vertical-align: middle;\n",
       "    }\n",
       "\n",
       "    .dataframe tbody tr th {\n",
       "        vertical-align: top;\n",
       "    }\n",
       "\n",
       "    .dataframe thead th {\n",
       "        text-align: right;\n",
       "    }\n",
       "</style>\n",
       "<table border=\"1\" class=\"dataframe\">\n",
       "  <thead>\n",
       "    <tr style=\"text-align: right;\">\n",
       "      <th></th>\n",
       "      <th>Pregnancies</th>\n",
       "      <th>Glucose</th>\n",
       "      <th>BloodPressure</th>\n",
       "      <th>SkinThickness</th>\n",
       "      <th>Insulin</th>\n",
       "      <th>BMI</th>\n",
       "      <th>DiabetesPedigreeFunction</th>\n",
       "      <th>Age</th>\n",
       "      <th>Outcome</th>\n",
       "    </tr>\n",
       "  </thead>\n",
       "  <tbody>\n",
       "    <tr>\n",
       "      <th>773</th>\n",
       "      <td>False</td>\n",
       "      <td>False</td>\n",
       "      <td>False</td>\n",
       "      <td>False</td>\n",
       "      <td>False</td>\n",
       "      <td>False</td>\n",
       "      <td>False</td>\n",
       "      <td>False</td>\n",
       "      <td>False</td>\n",
       "    </tr>\n",
       "    <tr>\n",
       "      <th>774</th>\n",
       "      <td>False</td>\n",
       "      <td>False</td>\n",
       "      <td>False</td>\n",
       "      <td>False</td>\n",
       "      <td>False</td>\n",
       "      <td>False</td>\n",
       "      <td>False</td>\n",
       "      <td>False</td>\n",
       "      <td>False</td>\n",
       "    </tr>\n",
       "    <tr>\n",
       "      <th>775</th>\n",
       "      <td>False</td>\n",
       "      <td>False</td>\n",
       "      <td>False</td>\n",
       "      <td>False</td>\n",
       "      <td>False</td>\n",
       "      <td>False</td>\n",
       "      <td>False</td>\n",
       "      <td>False</td>\n",
       "      <td>False</td>\n",
       "    </tr>\n",
       "    <tr>\n",
       "      <th>776</th>\n",
       "      <td>False</td>\n",
       "      <td>False</td>\n",
       "      <td>False</td>\n",
       "      <td>False</td>\n",
       "      <td>False</td>\n",
       "      <td>False</td>\n",
       "      <td>False</td>\n",
       "      <td>False</td>\n",
       "      <td>False</td>\n",
       "    </tr>\n",
       "    <tr>\n",
       "      <th>777</th>\n",
       "      <td>False</td>\n",
       "      <td>False</td>\n",
       "      <td>False</td>\n",
       "      <td>False</td>\n",
       "      <td>False</td>\n",
       "      <td>False</td>\n",
       "      <td>False</td>\n",
       "      <td>False</td>\n",
       "      <td>False</td>\n",
       "    </tr>\n",
       "  </tbody>\n",
       "</table>\n",
       "</div>"
      ],
      "text/plain": [
       "     Pregnancies  Glucose  BloodPressure  SkinThickness  Insulin    BMI  \\\n",
       "773        False    False          False          False    False  False   \n",
       "774        False    False          False          False    False  False   \n",
       "775        False    False          False          False    False  False   \n",
       "776        False    False          False          False    False  False   \n",
       "777        False    False          False          False    False  False   \n",
       "\n",
       "     DiabetesPedigreeFunction    Age  Outcome  \n",
       "773                     False  False    False  \n",
       "774                     False  False    False  \n",
       "775                     False  False    False  \n",
       "776                     False  False    False  \n",
       "777                     False  False    False  "
      ]
     },
     "metadata": {},
     "output_type": "display_data"
    }
   ],
   "source": [
    "display(diabetes_cleaned.isnull().tail())"
   ]
  },
  {
   "cell_type": "code",
   "execution_count": 817,
   "metadata": {},
   "outputs": [
    {
     "data": {
      "text/plain": [
       "Insulin                     0.49\n",
       "SkinThickness               0.30\n",
       "BloodPressure               0.05\n",
       "Glucose                     0.01\n",
       "BMI                         0.01\n",
       "Pregnancies                 0.00\n",
       "DiabetesPedigreeFunction    0.00\n",
       "Age                         0.00\n",
       "Outcome                     0.00\n",
       "Gender                      0.00\n",
       "dtype: float64"
      ]
     },
     "execution_count": 817,
     "metadata": {},
     "output_type": "execute_result"
    }
   ],
   "source": [
    "def nan_function(x):\n",
    "    return np.nan if x == 0 else x\n",
    "diabetes[\"Glucose\"] = diabetes[\"Glucose\"].apply(nan_function)\n",
    "diabetes[\"BloodPressure\"] = diabetes[\"BloodPressure\"].apply(nan_function)\n",
    "diabetes[\"SkinThickness\"] = diabetes[\"SkinThickness\"].apply(nan_function)\n",
    "diabetes[\"Insulin\"] = diabetes[\"Insulin\"].apply(nan_function)\n",
    "diabetes[\"BMI\"] = diabetes[\"BMI\"].apply(nan_function)\n",
    "diabetes.isnull().mean().round(2).sort_values(ascending=False)"
   ]
  },
  {
   "cell_type": "markdown",
   "metadata": {},
   "source": [
    "# Удалите из данных признаки, где число пропусков составляет более 30 %. Сколько признаков осталось в ваших данных (с учетом удаленных неинформативных признаков в задании 8.2)?"
   ]
  },
  {
   "cell_type": "code",
   "execution_count": 818,
   "metadata": {},
   "outputs": [
    {
     "data": {
      "text/plain": [
       "9"
      ]
     },
     "execution_count": 818,
     "metadata": {},
     "output_type": "execute_result"
    }
   ],
   "source": [
    "#задаем минимальный порог: вычисляем 70% от числа строк\n",
    "thresh_colums = diabetes_cleaned.shape[0]*0.7\n",
    "#удаляем столбцы, в которых более 30% (100-70) пропусков\n",
    "diabetes_cleaned = diabetes_cleaned.dropna(thresh=thresh_colums, axis=1)#удаляем записи, в которых есть хотя бы 1 пропуск\n",
    "\n",
    "diabetes_cleaned.shape[1]"
   ]
  },
  {
   "cell_type": "markdown",
   "metadata": {},
   "source": [
    "# Удалите из данных только те строки, в которых содержится более двух пропусков одновременно. Чему равно результирующее число записей в таблице?"
   ]
  },
  {
   "cell_type": "code",
   "execution_count": 819,
   "metadata": {},
   "outputs": [
    {
     "data": {
      "text/plain": [
       "761"
      ]
     },
     "execution_count": 819,
     "metadata": {},
     "output_type": "execute_result"
    }
   ],
   "source": [
    "m = diabetes.shape[1]\n",
    "diabetes = diabetes.dropna(thresh=m-3, axis=0)\n",
    "diabetes.shape[0]"
   ]
  },
  {
   "cell_type": "markdown",
   "metadata": {},
   "source": [
    "# В оставшихся записях замените пропуски на медиану. Чему равно среднее значение в столбце SkinThickness? Ответ округлите до десятых."
   ]
  },
  {
   "cell_type": "code",
   "execution_count": 820,
   "metadata": {},
   "outputs": [
    {
     "name": "stdout",
     "output_type": "stream",
     "text": [
      "29.1\n"
     ]
    }
   ],
   "source": [
    "null_data = diabetes.isnull().sum()\n",
    "cols = null_data[null_data>0].index\n",
    "for col in cols:\n",
    "    diabetes[col] = diabetes[col].fillna(diabetes[col].median())\n",
    "print(diabetes['SkinThickness'].mean().round(1))"
   ]
  },
  {
   "cell_type": "markdown",
   "metadata": {},
   "source": [
    "# Сколько выбросов найдёт классический метод межквартильного размаха в признаке SkinThickness?"
   ]
  },
  {
   "cell_type": "code",
   "execution_count": 821,
   "metadata": {},
   "outputs": [
    {
     "name": "stdout",
     "output_type": "stream",
     "text": [
      "Число выбросов по методу Тьюки: 87\n"
     ]
    }
   ],
   "source": [
    "def outliers_iqr_mod(data, feature, left=1.5, right=1.5, log_scale=False):\n",
    "    if log_scale:\n",
    "        x = np.log(data[feature])\n",
    "    else:\n",
    "        x = data[feature]\n",
    "    quartile_1, quartile_3 = x.quantile(0.25), x.quantile(0.75),\n",
    "    iqr = quartile_3 - quartile_1\n",
    "    lower_bound = quartile_1 - (iqr * left)\n",
    "    upper_bound = quartile_3 + (iqr * right)\n",
    "    outliers = data[(x < lower_bound) | (x > upper_bound)]\n",
    "    cleaned = data[(x >= lower_bound) & (x <= upper_bound)]\n",
    "    return outliers, cleaned\n",
    "\n",
    "outliers, cleaned = outliers_iqr_mod(diabetes, 'SkinThickness')\n",
    "print(f'Число выбросов по методу Тьюки: {outliers.shape[0]}')"
   ]
  },
  {
   "cell_type": "markdown",
   "metadata": {},
   "source": [
    "# Сколько выбросов найдёт классический метод z-отклонения в признаке SkinThickness?"
   ]
  },
  {
   "cell_type": "code",
   "execution_count": 822,
   "metadata": {},
   "outputs": [
    {
     "name": "stdout",
     "output_type": "stream",
     "text": [
      "Число выбросов по методу z-отклонения: 4\n",
      "Результирующее число записей: 757\n"
     ]
    }
   ],
   "source": [
    "def outliers_z_score(data, feature, log_scale=False, left=3, right=3):\n",
    "    if log_scale:\n",
    "        x = np.log(data[feature]+1)\n",
    "    else:\n",
    "        x = data[feature]\n",
    "    mu = x.mean()\n",
    "    sigma = x.std()\n",
    "    lower_bound = mu - left * sigma\n",
    "    upper_bound = mu + right * sigma\n",
    "    outliers = data[(x < lower_bound) | (x > upper_bound)]\n",
    "    cleaned = data[(x >= lower_bound) & (x <= upper_bound)]\n",
    "    return outliers, cleaned\n",
    "\n",
    "outliers, cleaned = outliers_z_score(diabetes, 'SkinThickness')\n",
    "print(f'Число выбросов по методу z-отклонения: {outliers.shape[0]}')\n",
    "print(f'Результирующее число записей: {cleaned.shape[0]}')"
   ]
  },
  {
   "attachments": {
    "image.png": {
     "image/png": "[encoded data removed]"
    }
   },
   "cell_type": "markdown",
   "metadata": {},
   "source": [
    "# На приведённой гистограмме показано распределение признака DiabetesPedigreeFunction. Такой вид распределения очень похож на логнормальный, и он заставляет задуматься о логарифмировании признака. Найдите сначала число выбросов в признаке DiabetesPedigreeFunction с помощью классического метода межквартильного размаха.\n",
    "\n",
    "![image.png](attachment:image.png)\n",
    "\n",
    "# Затем найдите число выбросов в этом же признаке в логарифмическом масштабе (при логарифмировании единицу прибавлять не нужно!). Какова разница между двумя этими числами (вычтите из первого второе)?"
   ]
  },
  {
   "cell_type": "code",
   "execution_count": 827,
   "metadata": {},
   "outputs": [
    {
     "name": "stdout",
     "output_type": "stream",
     "text": [
      "29\n"
     ]
    }
   ],
   "source": [
    "def outliers_iqr_mod(data, feature, left=1.5, right=1.5, log_scale=False):\n",
    "    if log_scale:\n",
    "        x = np.log(data[feature])\n",
    "    else:\n",
    "        x= data[feature]\n",
    "    quartile_1, quartile_3 = x.quantile(0.25), x.quantile(0.75),\n",
    "    iqr = quartile_3 - quartile_1\n",
    "    lower_bound = quartile_1 - (iqr * left)\n",
    "    upper_bound = quartile_3 + (iqr * right)\n",
    "    outliers = data[(x < lower_bound) | (x > upper_bound)]\n",
    "    cleaned = data[(x >= lower_bound) & (x <= upper_bound)]\n",
    "    return outliers, cleaned\n",
    "outliers, _ = outliers_iqr_mod(diabetes, 'DiabetesPedigreeFunction')\n",
    "outliers_log, _ = outliers_iqr_mod(diabetes, 'DiabetesPedigreeFunction', log_scale=True)\n",
    "print(outliers.shape[0] - outliers_log.shape[0])"
   ]
  }
 ],
 "metadata": {
  "kernelspec": {
   "display_name": "Python 3",
   "language": "python",
   "name": "python3"
  },
  "language_info": {
   "codemirror_mode": {
    "name": "ipython",
    "version": 3
   },
   "file_extension": ".py",
   "mimetype": "text/x-python",
   "name": "python",
   "nbconvert_exporter": "python",
   "pygments_lexer": "ipython3",
   "version": "3.12.3"
  }
 },
 "nbformat": 4,
 "nbformat_minor": 2
}
