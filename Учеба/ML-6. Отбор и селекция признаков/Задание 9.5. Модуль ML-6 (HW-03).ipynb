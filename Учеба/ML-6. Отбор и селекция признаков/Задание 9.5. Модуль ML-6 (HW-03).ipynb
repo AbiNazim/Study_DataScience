{
 "cells": [
  {
   "cell_type": "code",
   "execution_count": 32,
   "metadata": {},
   "outputs": [],
   "source": [
    "# Импорт библиотек\n",
    "import pandas as pd\n",
    "\n",
    "from sklearn.model_selection import train_test_split\n",
    "from sklearn.linear_model import LinearRegression\n",
    "from sklearn.metrics import mean_absolute_error\n",
    "from sklearn.feature_selection import RFE, SelectKBest, f_regression"
   ]
  },
  {
   "cell_type": "code",
   "execution_count": 33,
   "metadata": {},
   "outputs": [],
   "source": [
    "# Загрузка данных\n",
    "data = pd.read_excel('data/data_ford_price.xlsx')"
   ]
  },
  {
   "cell_type": "code",
   "execution_count": 34,
   "metadata": {},
   "outputs": [],
   "source": [
    "# Подготовка данных\n",
    "data = data[['price','year', 'cylinders', 'odometer', 'lat', 'long', 'weather']]\n",
    "data.dropna(inplace=True)\n",
    "\n",
    "y = data['price']\n",
    "x = data.drop(columns='price')\n",
    "\n",
    "X_train, X_test, y_train, y_test = train_test_split(x, y, test_size=0.3, random_state=42)"
   ]
  },
  {
   "cell_type": "code",
   "execution_count": 35,
   "metadata": {},
   "outputs": [
    {
     "name": "stdout",
     "output_type": "stream",
     "text": [
      "Признаки, выбранные RFE: ['year' 'cylinders' 'lat']\n"
     ]
    }
   ],
   "source": [
    "# Метод RFE\n",
    "estimator = LinearRegression()\n",
    "rfe_selector = RFE(estimator, n_features_to_select=3, step=1)\n",
    "rfe_selector.fit(X_train, y_train)\n",
    "rfe_features = rfe_selector.get_feature_names_out()\n",
    "print(\"Признаки, выбранные RFE:\", rfe_features)"
   ]
  },
  {
   "cell_type": "code",
   "execution_count": 36,
   "metadata": {},
   "outputs": [
    {
     "name": "stdout",
     "output_type": "stream",
     "text": [
      "Признаки, выбранные SelectKBest: ['year' 'cylinders' 'odometer']\n"
     ]
    }
   ],
   "source": [
    "# Метод SelectKBest\n",
    "kbest_selector = SelectKBest(f_regression, k=3)\n",
    "kbest_selector.fit(X_train, y_train)\n",
    "kbest_features = kbest_selector.get_feature_names_out()\n",
    "print(\"Признаки, выбранные SelectKBest:\", kbest_features)"
   ]
  },
  {
   "cell_type": "code",
   "execution_count": 37,
   "metadata": {},
   "outputs": [
    {
     "name": "stdout",
     "output_type": "stream",
     "text": [
      "MAE для модели с RFE-признаками: 5206.677\n"
     ]
    }
   ],
   "source": [
    "# Обучение на RFE-признаках\n",
    "X_train_rfe = X_train[rfe_features]\n",
    "X_test_rfe = X_test[rfe_features]\n",
    "\n",
    "model_rfe = LinearRegression()\n",
    "model_rfe.fit(X_train_rfe, y_train)\n",
    "y_pred_rfe = model_rfe.predict(X_test_rfe)\n",
    "mae_rfe = mean_absolute_error(y_test, y_pred_rfe)\n",
    "print(f\"MAE для модели с RFE-признаками: {mae_rfe:.3f}\")"
   ]
  },
  {
   "cell_type": "code",
   "execution_count": 38,
   "metadata": {},
   "outputs": [
    {
     "name": "stdout",
     "output_type": "stream",
     "text": [
      "MAE для модели с SelectKBest-признаками: 4800.916\n"
     ]
    }
   ],
   "source": [
    "# Обучение на SelectKBest-признаках\n",
    "X_train_kbest = X_train[kbest_features]\n",
    "X_test_kbest = X_test[kbest_features]\n",
    "\n",
    "model_kbest = LinearRegression()\n",
    "model_kbest.fit(X_train_kbest, y_train)\n",
    "y_pred_kbest = model_kbest.predict(X_test_kbest)\n",
    "mae_kbest = mean_absolute_error(y_test, y_pred_kbest)\n",
    "print(f\"MAE для модели с SelectKBest-признаками: {mae_kbest:.3f}\")"
   ]
  },
  {
   "cell_type": "code",
   "execution_count": 39,
   "metadata": {},
   "outputs": [
    {
     "name": "stdout",
     "output_type": "stream",
     "text": [
      "\n",
      "Лучший метод: SelectKBest\n",
      "SelectKBest показал MAE на 405.761 меньше, чем RFE\n"
     ]
    }
   ],
   "source": [
    "# Сравнение результатов\n",
    "if mae_rfe < mae_kbest:\n",
    "    print(\"\\nЛучший метод: RFE\")\n",
    "    print(f\"RFE показал MAE на {mae_kbest - mae_rfe:.3f} меньше, чем SelectKBest\")\n",
    "elif mae_kbest < mae_rfe:\n",
    "    print(\"\\nЛучший метод: SelectKBest\")\n",
    "    print(f\"SelectKBest показал MAE на {mae_rfe - mae_kbest:.3f} меньше, чем RFE\")\n",
    "else:\n",
    "    print(\"\\nОба метода показали одинаковый результат\")"
   ]
  },
  {
   "cell_type": "markdown",
   "metadata": {},
   "source": [
    "Лучший метод: SelectKBest\\\n",
    "SelectKBest показал MAE на 405.761 меньше, чем RFE"
   ]
  }
 ],
 "metadata": {
  "kernelspec": {
   "display_name": "Python 3",
   "language": "python",
   "name": "python3"
  },
  "language_info": {
   "codemirror_mode": {
    "name": "ipython",
    "version": 3
   },
   "file_extension": ".py",
   "mimetype": "text/x-python",
   "name": "python",
   "nbconvert_exporter": "python",
   "pygments_lexer": "ipython3",
   "version": "3.12.3"
  }
 },
 "nbformat": 4,
 "nbformat_minor": 2
}
