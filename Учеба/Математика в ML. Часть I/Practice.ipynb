{
 "cells": [
  {
   "cell_type": "markdown",
   "metadata": {},
   "source": [
    "# Найдите матрицу, обратную матрице A."
   ]
  },
  {
   "cell_type": "code",
   "execution_count": 4,
   "metadata": {},
   "outputs": [],
   "source": [
    "import numpy as np"
   ]
  },
  {
   "cell_type": "code",
   "execution_count": 2,
   "metadata": {},
   "outputs": [],
   "source": [
    "A = np.array([[8, 6, 11], [7, 5, 9],[6, 10, 6]])"
   ]
  },
  {
   "cell_type": "code",
   "execution_count": 5,
   "metadata": {},
   "outputs": [
    {
     "data": {
      "text/plain": [
       "array([[-1.875  ,  2.3125 , -0.03125],\n",
       "       [ 0.375  , -0.5625 ,  0.15625],\n",
       "       [ 1.25   , -1.375  , -0.0625 ]])"
      ]
     },
     "execution_count": 5,
     "metadata": {},
     "output_type": "execute_result"
    }
   ],
   "source": [
    "np.linalg.inv(A)"
   ]
  },
  {
   "cell_type": "markdown",
   "metadata": {},
   "source": [
    "# Дана система векторов:\n",
    "\n",
    "v1 = np.array([9, 10, 7, 7, 9])\\\n",
    "v2 = np.array([2, 0, 5, 1, 4])\\\n",
    "v3 = np.array([4, 0, 0, 4, 1])\\\n",
    "v4 = np.array([3, -4, 3, -1, -4])"
   ]
  },
  {
   "cell_type": "code",
   "execution_count": 6,
   "metadata": {},
   "outputs": [],
   "source": [
    "v1 = np.array([9, 10, 7, 7, 9])\n",
    "v2 = np.array([2, 0, 5, 1, 4])\n",
    "v3 = np.array([4, 0, 0, 4, 1])\n",
    "v4 = np.array([3, -4, 3, -1, -4])"
   ]
  },
  {
   "cell_type": "markdown",
   "metadata": {},
   "source": [
    "## Найдите ранг системы векторов v1, v2, v3, v4. Для этого создайте матрицу системы векторов. Векторы в матрице расположите в столбцы."
   ]
  },
  {
   "cell_type": "code",
   "execution_count": 11,
   "metadata": {},
   "outputs": [
    {
     "data": {
      "text/plain": [
       "np.int64(4)"
      ]
     },
     "execution_count": 11,
     "metadata": {},
     "output_type": "execute_result"
    }
   ],
   "source": [
    "matrix_v = np.array([v1, v2, v3, v4]).T\n",
    "np.linalg.matrix_rank(matrix_v)"
   ]
  },
  {
   "cell_type": "markdown",
   "metadata": {},
   "source": [
    "## Найдите матрицу Грама системы векторов v1, v2, v3, v4:G=A.T A . В качестве ответа запишите элемент из четвёртого столбца первой строки."
   ]
  },
  {
   "cell_type": "code",
   "execution_count": 18,
   "metadata": {},
   "outputs": [
    {
     "name": "stdout",
     "output_type": "stream",
     "text": [
      "Матрица Грама:\n",
      " [[360  96  73 -35]\n",
      " [ 96  46  16   4]\n",
      " [ 73  16  33   4]\n",
      " [-35   4   4  51]]\n"
     ]
    }
   ],
   "source": [
    "print('Матрица Грама:\\n',matrix_v.T@matrix_v)"
   ]
  },
  {
   "cell_type": "markdown",
   "metadata": {},
   "source": [
    "## Найдите определитель матрицы Грама  системы v1, v2, v3, v4. Ответ округлите до целого числа."
   ]
  },
  {
   "cell_type": "code",
   "execution_count": 24,
   "metadata": {},
   "outputs": [
    {
     "name": "stdout",
     "output_type": "stream",
     "text": [
      "Определитель матрицы Грама:\n",
      " 3716648\n"
     ]
    }
   ],
   "source": [
    "print('Определитель матрицы Грама:\\n', round(np.linalg.det(matrix_v.T@matrix_v)))"
   ]
  },
  {
   "cell_type": "markdown",
   "metadata": {},
   "source": [
    "## Найдите обратную матрицу к матрице Грама G системы v1, v2, v3, v4. В качестве ответа запишите элемент из первого столбца третьей строки, округлив его до трёх знаков после точки-разделителя."
   ]
  },
  {
   "cell_type": "code",
   "execution_count": 32,
   "metadata": {},
   "outputs": [
    {
     "name": "stdout",
     "output_type": "stream",
     "text": [
      "Обратная к матрице Грама:\n",
      " [[ 0.01711488 -0.02798543 -0.02623063  0.01599775]\n",
      " [-0.02798543  0.071967    0.03031441 -0.02722776]\n",
      " [-0.02623063  0.03031441  0.07683106 -0.02640498]\n",
      " [ 0.01599775 -0.02722776 -0.02640498  0.03479318]]\n"
     ]
    }
   ],
   "source": [
    "print('Обратная к матрице Грама:\\n',np.linalg.inv(matrix_v.T@matrix_v))"
   ]
  }
 ],
 "metadata": {
  "kernelspec": {
   "display_name": "Python 3",
   "language": "python",
   "name": "python3"
  },
  "language_info": {
   "codemirror_mode": {
    "name": "ipython",
    "version": 3
   },
   "file_extension": ".py",
   "mimetype": "text/x-python",
   "name": "python",
   "nbconvert_exporter": "python",
   "pygments_lexer": "ipython3",
   "version": "3.12.3"
  }
 },
 "nbformat": 4,
 "nbformat_minor": 2
}
