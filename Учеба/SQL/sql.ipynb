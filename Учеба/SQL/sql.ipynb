{
 "cells": [
  {
   "cell_type": "markdown",
   "metadata": {},
   "source": [
    "# Cтруктуру простого запроса:"
   ]
  },
  {
   "cell_type": "code",
   "execution_count": null,
   "metadata": {},
   "outputs": [],
   "source": [
    "SELECT\n",
    "    столбец1 AS новое_название,\n",
    "    столбец2,    столбец3\n",
    "FROM таблица\n",
    "WHERE (условие1 OR условие2)    AND условие3\n",
    "ORDER BY сортировка1, сортировка2\n",
    "OFFSET 1 LIMIT 2"
   ]
  },
  {
   "cell_type": "code",
   "execution_count": null,
   "metadata": {},
   "outputs": [],
   "source": [
    "SELECT [ALL | DISTINCT] список_столбцов|*\n",
    "FROM список_имён_таблиц\n",
    "[WHERE условие_поиска]\n",
    "[GROUP BY список_имён_столбцов]\n",
    "[HAVING условие_поиска]\n",
    "[ORDER BY имя_столбца [ASC | DESC],…]"
   ]
  },
  {
   "cell_type": "code",
   "execution_count": null,
   "metadata": {},
   "outputs": [],
   "source": [
    "SELECT\n",
    "    столбец1 AS новое_название,\n",
    "    столбец2,\n",
    "    АГРЕГАТ(столбец3)\n",
    "FROM таблица\n",
    "WHERE (условие1 OR условие2)\n",
    "    AND условие3\n",
    "GROUP BY столбец1, столбец2\n",
    "HAVING АГРЕГАТ(столбец3) > 5\n",
    "ORDER BY сортировка1, сортировка2\n",
    "OFFSET 1 LIMIT 2"
   ]
  },
  {
   "cell_type": "code",
   "execution_count": null,
   "metadata": {},
   "outputs": [],
   "source": [
    "SELECT         n columns\n",
    "FROM \n",
    "         table_1\n",
    "UNION ALL\n",
    "SELECT \n",
    "         n columns\n",
    "FROM \n",
    "         table_2\n",
    "...\n",
    "UNION ALL\n",
    "SELECT \n",
    "         n columns\n",
    "FROM \n",
    "         table_n"
   ]
  },
  {
   "cell_type": "code",
   "execution_count": null,
   "metadata": {},
   "outputs": [],
   "source": [
    "SELECT \n",
    "         n columns\n",
    "FROM \n",
    "         table_1\n",
    "EXCEPT\n",
    "SELECT \n",
    "         n columns\n",
    "FROM \n",
    "         table_2"
   ]
  },
  {
   "cell_type": "code",
   "execution_count": null,
   "metadata": {},
   "outputs": [],
   "source": [
    "SELECT          c.city_name object_name\n",
    "FROM          sql.city c\n",
    "INTERSECT\n",
    "SELECT \n",
    "         cc.state\n",
    "FROM          sql.city cc\n",
    "ORDER BY 1"
   ]
  }
 ],
 "metadata": {
  "kernelspec": {
   "display_name": "Python 3",
   "language": "python",
   "name": "python3"
  },
  "language_info": {
   "codemirror_mode": {
    "name": "ipython",
    "version": 3
   },
   "file_extension": ".py",
   "mimetype": "text/x-python",
   "name": "python",
   "nbconvert_exporter": "python",
   "pygments_lexer": "ipython3",
   "version": "3.12.3"
  }
 },
 "nbformat": 4,
 "nbformat_minor": 2
}
