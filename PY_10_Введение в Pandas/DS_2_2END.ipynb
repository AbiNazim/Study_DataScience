{
 "cells": [
  {
   "cell_type": "code",
   "execution_count": null,
   "metadata": {},
   "outputs": [],
   "source": [
    "import pandas as pd"
   ]
  },
  {
   "cell_type": "code",
   "execution_count": null,
   "metadata": {},
   "outputs": [],
   "source": [
    "student_data = pd.read_csv('data/students_performance.csv', sep=',')\n",
    "display(student_data)"
   ]
  },
  {
   "cell_type": "markdown",
   "metadata": {},
   "source": [
    "gender — пол;\n",
    "race/ethnicity — раса/этническая принадлежность;\n",
    "parental level of education — уровень образования родителей;\n",
    "lunch — какие обеды получал студент во время обучения (standard — платный, free/reduced — бесплатный);\n",
    "test preparation course — посещал ли студент курсы подготовки к экзаменам (none — не посещал, completed — посещал);\n",
    "math score, reading score, writing score — баллы по математике, чтению и письму по сто балльной шкале."
   ]
  },
  {
   "cell_type": "code",
   "execution_count": null,
   "metadata": {},
   "outputs": [],
   "source": [
    "student_data['writing score'].loc[155]"
   ]
  },
  {
   "cell_type": "code",
   "execution_count": null,
   "metadata": {},
   "outputs": [],
   "source": [
    "student_data.info()"
   ]
  },
  {
   "cell_type": "code",
   "execution_count": null,
   "metadata": {},
   "outputs": [],
   "source": [
    "student_data['math score'].mean()"
   ]
  },
  {
   "cell_type": "code",
   "execution_count": null,
   "metadata": {},
   "outputs": [],
   "source": [
    "student_data['race/ethnicity'].mode()"
   ]
  },
  {
   "cell_type": "code",
   "execution_count": null,
   "metadata": {},
   "outputs": [],
   "source": [
    "round(student_data[student_data['test preparation course'] == 'completed']['reading score'].mean())"
   ]
  },
  {
   "cell_type": "code",
   "execution_count": null,
   "metadata": {},
   "outputs": [],
   "source": [
    "student_data[student_data['math score'] == 0].shape[0]"
   ]
  },
  {
   "cell_type": "code",
   "execution_count": null,
   "metadata": {},
   "outputs": [],
   "source": [
    "max_st = student_data[student_data['lunch'] == 'standard']['math score'].mean()\n",
    "min_st = student_data[student_data['lunch'] == 'free/reduced']['math score'].mean()\n",
    "display(max_st, min_st)\n"
   ]
  },
  {
   "cell_type": "code",
   "execution_count": null,
   "metadata": {},
   "outputs": [],
   "source": [
    "round(student_data['parental level of education'].value_counts(\"bachelor's degree\") * 100)"
   ]
  },
  {
   "cell_type": "code",
   "execution_count": 63,
   "metadata": {},
   "outputs": [
    {
     "data": {
      "text/plain": [
       "6"
      ]
     },
     "metadata": {},
     "output_type": "display_data"
    }
   ],
   "source": [
    "med_st = student_data[(student_data['race/ethnicity'] == 'group A')]['writing score'].median()\n",
    "mean_st = student_data[(student_data['race/ethnicity'] == 'group C')]['writing score'].mean()\n",
    "res = round(abs(med_st - mean_st))\n",
    "display(res)\n"
   ]
  },
  {
   "cell_type": "code",
   "execution_count": null,
   "metadata": {},
   "outputs": [],
   "source": [
    "student_data.describe(include='object')"
   ]
  }
 ],
 "metadata": {
  "kernelspec": {
   "display_name": "Python 3",
   "language": "python",
   "name": "python3"
  },
  "language_info": {
   "codemirror_mode": {
    "name": "ipython",
    "version": 3
   },
   "file_extension": ".py",
   "mimetype": "text/x-python",
   "name": "python",
   "nbconvert_exporter": "python",
   "pygments_lexer": "ipython3",
   "version": "3.12.3"
  }
 },
 "nbformat": 4,
 "nbformat_minor": 2
}
