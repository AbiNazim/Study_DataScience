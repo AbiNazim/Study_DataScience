{
  "cells": [
    {
      "cell_type": "markdown",
      "id": "42289889-bd57-434e-9637-d3e354756316",
      "metadata": {
        "id": "42289889-bd57-434e-9637-d3e354756316"
      },
      "source": [
        "<center> <img src = https://raw.githubusercontent.com/AndreyRysistov/DatasetsForPandas/main/hh%20label.jpg alt=\"drawing\" style=\"width:400px;\">"
      ]
    },
    {
      "cell_type": "markdown",
      "id": "829cb75b-f14e-4ba8-9195-7ba929a7d656",
      "metadata": {
        "id": "829cb75b-f14e-4ba8-9195-7ba929a7d656",
        "tags": []
      },
      "source": [
        "# <center> Проект: Анализ вакансий из HeadHunter\n",
        "   "
      ]
    },
    {
      "cell_type": "code",
      "execution_count": 39,
      "id": "dccfde33-2452-43fb-a8a5-5c6ebc02a71d",
      "metadata": {
        "id": "dccfde33-2452-43fb-a8a5-5c6ebc02a71d"
      },
      "outputs": [],
      "source": [
        "import pandas as pd\n",
        "import psycopg2\n",
        "import requests\n",
        "from bs4 import BeautifulSoup\n",
        "import yaml\n",
        "import plotly.express as px"
      ]
    },
    {
      "cell_type": "code",
      "execution_count": 40,
      "id": "52c47755",
      "metadata": {},
      "outputs": [],
      "source": [
        "with open ('config.yaml') as f:\n",
        "    data = yaml.safe_load(f)\n",
        "# data\n",
        "# params = {k:v.stip() for k, v in (t.split('=') for t in open('config.txt'))}  \n",
        "# Считываю данные подключения и файла (делаю сокрытие данных ввиде логинов/паролей и т.п.) (Довольно долгий способ считывания)\n",
        "\n",
        "# postgresql+psycopg2://{user}:{password}@{host}:{port}/{dbname}  # Шаблон строки подлючения (в 1 строку)"
      ]
    },
    {
      "cell_type": "code",
      "execution_count": 41,
      "id": "G4X_q8KBf7SF",
      "metadata": {
        "id": "G4X_q8KBf7SF"
      },
      "outputs": [],
      "source": [
        "connection = psycopg2.connect(\n",
        "    dbname=DBNAME,\n",
        "    user=USER,\n",
        "    host=HOST,\n",
        "    password=PASSWORD,\n",
        "    port=PORT\n",
        ")"
      ]
    },
    {
      "cell_type": "markdown",
      "id": "0dc6476b-7a00-44f1-ac93-6e3baed33a29",
      "metadata": {
        "id": "0dc6476b-7a00-44f1-ac93-6e3baed33a29"
      },
      "source": [
        "# Юнит 3. Предварительный анализ данных"
      ]
    },
    {
      "cell_type": "markdown",
      "id": "889782b6-8d1c-410e-8920-e57f27917c64",
      "metadata": {
        "id": "889782b6-8d1c-410e-8920-e57f27917c64"
      },
      "source": [
        "1. Напишите запрос, который посчитает количество вакансий в нашей базе (вакансии находятся в таблице vacancies). "
      ]
    },
    {
      "cell_type": "code",
      "execution_count": 44,
      "id": "bc39e68e-ed02-4ee2-9235-7258a2f867a8",
      "metadata": {
        "id": "bc39e68e-ed02-4ee2-9235-7258a2f867a8"
      },
      "outputs": [],
      "source": [
        "query_3_1 = f'''\n",
        "SELECT\n",
        "    count(*) vacansies_count\n",
        "FROM\n",
        "    VACANCIES\n",
        "'''"
      ]
    },
    {
      "cell_type": "code",
      "execution_count": 46,
      "id": "7mAwtsk4hEHY",
      "metadata": {
        "id": "7mAwtsk4hEHY"
      },
      "outputs": [
        {
          "name": "stderr",
          "output_type": "stream",
          "text": [
            "C:\\Users\\User\\AppData\\Local\\Temp\\ipykernel_22272\\671705815.py:1: UserWarning: pandas only supports SQLAlchemy connectable (engine/connection) or database string URI or sqlite3 DBAPI2 connection. Other DBAPI2 objects are not tested. Please consider using SQLAlchemy.\n",
            "  vacansies_count = pd.read_sql_query(query_3_1, connection)\n"
          ]
        },
        {
          "ename": "DatabaseError",
          "evalue": "Execution failed on sql '\nSELECT\n    count(*) vacansies_count\nFROM\n    VACANCIES\n': relation \"vacancies\" does not exist\nLINE 5:     VACANCIES\n            ^\n",
          "output_type": "error",
          "traceback": [
            "\u001b[1;31m---------------------------------------------------------------------------\u001b[0m",
            "\u001b[1;31mUndefinedTable\u001b[0m                            Traceback (most recent call last)",
            "File \u001b[1;32mc:\\phython\\Lib\\site-packages\\pandas\\io\\sql.py:2674\u001b[0m, in \u001b[0;36mSQLiteDatabase.execute\u001b[1;34m(self, sql, params)\u001b[0m\n\u001b[0;32m   2673\u001b[0m \u001b[38;5;28;01mtry\u001b[39;00m:\n\u001b[1;32m-> 2674\u001b[0m     \u001b[43mcur\u001b[49m\u001b[38;5;241;43m.\u001b[39;49m\u001b[43mexecute\u001b[49m\u001b[43m(\u001b[49m\u001b[43msql\u001b[49m\u001b[43m,\u001b[49m\u001b[43m \u001b[49m\u001b[38;5;241;43m*\u001b[39;49m\u001b[43margs\u001b[49m\u001b[43m)\u001b[49m\n\u001b[0;32m   2675\u001b[0m     \u001b[38;5;28;01mreturn\u001b[39;00m cur\n",
            "\u001b[1;31mUndefinedTable\u001b[0m: relation \"vacancies\" does not exist\nLINE 5:     VACANCIES\n            ^\n",
            "\nThe above exception was the direct cause of the following exception:\n",
            "\u001b[1;31mDatabaseError\u001b[0m                             Traceback (most recent call last)",
            "Cell \u001b[1;32mIn[46], line 1\u001b[0m\n\u001b[1;32m----> 1\u001b[0m vacansies_count \u001b[38;5;241m=\u001b[39m \u001b[43mpd\u001b[49m\u001b[38;5;241;43m.\u001b[39;49m\u001b[43mread_sql_query\u001b[49m\u001b[43m(\u001b[49m\u001b[43mquery_3_1\u001b[49m\u001b[43m,\u001b[49m\u001b[43m \u001b[49m\u001b[43mconnection\u001b[49m\u001b[43m)\u001b[49m\n\u001b[0;32m      2\u001b[0m display(vacansies_count)\n",
            "File \u001b[1;32mc:\\phython\\Lib\\site-packages\\pandas\\io\\sql.py:526\u001b[0m, in \u001b[0;36mread_sql_query\u001b[1;34m(sql, con, index_col, coerce_float, params, parse_dates, chunksize, dtype, dtype_backend)\u001b[0m\n\u001b[0;32m    523\u001b[0m \u001b[38;5;28;01massert\u001b[39;00m dtype_backend \u001b[38;5;129;01mis\u001b[39;00m \u001b[38;5;129;01mnot\u001b[39;00m lib\u001b[38;5;241m.\u001b[39mno_default\n\u001b[0;32m    525\u001b[0m \u001b[38;5;28;01mwith\u001b[39;00m pandasSQL_builder(con) \u001b[38;5;28;01mas\u001b[39;00m pandas_sql:\n\u001b[1;32m--> 526\u001b[0m     \u001b[38;5;28;01mreturn\u001b[39;00m \u001b[43mpandas_sql\u001b[49m\u001b[38;5;241;43m.\u001b[39;49m\u001b[43mread_query\u001b[49m\u001b[43m(\u001b[49m\n\u001b[0;32m    527\u001b[0m \u001b[43m        \u001b[49m\u001b[43msql\u001b[49m\u001b[43m,\u001b[49m\n\u001b[0;32m    528\u001b[0m \u001b[43m        \u001b[49m\u001b[43mindex_col\u001b[49m\u001b[38;5;241;43m=\u001b[39;49m\u001b[43mindex_col\u001b[49m\u001b[43m,\u001b[49m\n\u001b[0;32m    529\u001b[0m \u001b[43m        \u001b[49m\u001b[43mparams\u001b[49m\u001b[38;5;241;43m=\u001b[39;49m\u001b[43mparams\u001b[49m\u001b[43m,\u001b[49m\n\u001b[0;32m    530\u001b[0m \u001b[43m        \u001b[49m\u001b[43mcoerce_float\u001b[49m\u001b[38;5;241;43m=\u001b[39;49m\u001b[43mcoerce_float\u001b[49m\u001b[43m,\u001b[49m\n\u001b[0;32m    531\u001b[0m \u001b[43m        \u001b[49m\u001b[43mparse_dates\u001b[49m\u001b[38;5;241;43m=\u001b[39;49m\u001b[43mparse_dates\u001b[49m\u001b[43m,\u001b[49m\n\u001b[0;32m    532\u001b[0m \u001b[43m        \u001b[49m\u001b[43mchunksize\u001b[49m\u001b[38;5;241;43m=\u001b[39;49m\u001b[43mchunksize\u001b[49m\u001b[43m,\u001b[49m\n\u001b[0;32m    533\u001b[0m \u001b[43m        \u001b[49m\u001b[43mdtype\u001b[49m\u001b[38;5;241;43m=\u001b[39;49m\u001b[43mdtype\u001b[49m\u001b[43m,\u001b[49m\n\u001b[0;32m    534\u001b[0m \u001b[43m        \u001b[49m\u001b[43mdtype_backend\u001b[49m\u001b[38;5;241;43m=\u001b[39;49m\u001b[43mdtype_backend\u001b[49m\u001b[43m,\u001b[49m\n\u001b[0;32m    535\u001b[0m \u001b[43m    \u001b[49m\u001b[43m)\u001b[49m\n",
            "File \u001b[1;32mc:\\phython\\Lib\\site-packages\\pandas\\io\\sql.py:2738\u001b[0m, in \u001b[0;36mSQLiteDatabase.read_query\u001b[1;34m(self, sql, index_col, coerce_float, parse_dates, params, chunksize, dtype, dtype_backend)\u001b[0m\n\u001b[0;32m   2727\u001b[0m \u001b[38;5;28;01mdef\u001b[39;00m \u001b[38;5;21mread_query\u001b[39m(\n\u001b[0;32m   2728\u001b[0m     \u001b[38;5;28mself\u001b[39m,\n\u001b[0;32m   2729\u001b[0m     sql,\n\u001b[1;32m   (...)\u001b[0m\n\u001b[0;32m   2736\u001b[0m     dtype_backend: DtypeBackend \u001b[38;5;241m|\u001b[39m Literal[\u001b[38;5;124m\"\u001b[39m\u001b[38;5;124mnumpy\u001b[39m\u001b[38;5;124m\"\u001b[39m] \u001b[38;5;241m=\u001b[39m \u001b[38;5;124m\"\u001b[39m\u001b[38;5;124mnumpy\u001b[39m\u001b[38;5;124m\"\u001b[39m,\n\u001b[0;32m   2737\u001b[0m ) \u001b[38;5;241m-\u001b[39m\u001b[38;5;241m>\u001b[39m DataFrame \u001b[38;5;241m|\u001b[39m Iterator[DataFrame]:\n\u001b[1;32m-> 2738\u001b[0m     cursor \u001b[38;5;241m=\u001b[39m \u001b[38;5;28;43mself\u001b[39;49m\u001b[38;5;241;43m.\u001b[39;49m\u001b[43mexecute\u001b[49m\u001b[43m(\u001b[49m\u001b[43msql\u001b[49m\u001b[43m,\u001b[49m\u001b[43m \u001b[49m\u001b[43mparams\u001b[49m\u001b[43m)\u001b[49m\n\u001b[0;32m   2739\u001b[0m     columns \u001b[38;5;241m=\u001b[39m [col_desc[\u001b[38;5;241m0\u001b[39m] \u001b[38;5;28;01mfor\u001b[39;00m col_desc \u001b[38;5;129;01min\u001b[39;00m cursor\u001b[38;5;241m.\u001b[39mdescription]\n\u001b[0;32m   2741\u001b[0m     \u001b[38;5;28;01mif\u001b[39;00m chunksize \u001b[38;5;129;01mis\u001b[39;00m \u001b[38;5;129;01mnot\u001b[39;00m \u001b[38;5;28;01mNone\u001b[39;00m:\n",
            "File \u001b[1;32mc:\\phython\\Lib\\site-packages\\pandas\\io\\sql.py:2686\u001b[0m, in \u001b[0;36mSQLiteDatabase.execute\u001b[1;34m(self, sql, params)\u001b[0m\n\u001b[0;32m   2683\u001b[0m     \u001b[38;5;28;01mraise\u001b[39;00m ex \u001b[38;5;28;01mfrom\u001b[39;00m \u001b[38;5;21;01minner_exc\u001b[39;00m\n\u001b[0;32m   2685\u001b[0m ex \u001b[38;5;241m=\u001b[39m DatabaseError(\u001b[38;5;124mf\u001b[39m\u001b[38;5;124m\"\u001b[39m\u001b[38;5;124mExecution failed on sql \u001b[39m\u001b[38;5;124m'\u001b[39m\u001b[38;5;132;01m{\u001b[39;00msql\u001b[38;5;132;01m}\u001b[39;00m\u001b[38;5;124m'\u001b[39m\u001b[38;5;124m: \u001b[39m\u001b[38;5;132;01m{\u001b[39;00mexc\u001b[38;5;132;01m}\u001b[39;00m\u001b[38;5;124m\"\u001b[39m)\n\u001b[1;32m-> 2686\u001b[0m \u001b[38;5;28;01mraise\u001b[39;00m ex \u001b[38;5;28;01mfrom\u001b[39;00m \u001b[38;5;21;01mexc\u001b[39;00m\n",
            "\u001b[1;31mDatabaseError\u001b[0m: Execution failed on sql '\nSELECT\n    count(*) vacansies_count\nFROM\n    VACANCIES\n': relation \"vacancies\" does not exist\nLINE 5:     VACANCIES\n            ^\n"
          ]
        }
      ],
      "source": [
        "vacansies_count = pd.read_sql_query(query_3_1, connection)\n",
        "display(vacansies_count)"
      ]
    },
    {
      "cell_type": "markdown",
      "id": "b583485d-1f9e-494e-ada4-80ffff7c53d6",
      "metadata": {
        "id": "b583485d-1f9e-494e-ada4-80ffff7c53d6"
      },
      "source": [
        "2. Напишите запрос, который посчитает количество работодателей (таблица employers). "
      ]
    },
    {
      "cell_type": "code",
      "execution_count": null,
      "id": "5408c52c-3407-4a63-b25b-1aafa2322d28",
      "metadata": {
        "id": "5408c52c-3407-4a63-b25b-1aafa2322d28"
      },
      "outputs": [],
      "source": [
        "query_3_2 = f'''\n",
        "SELECT\n",
        "    count(*) employer_count\n",
        "FROM\n",
        "    EMPLOYERS\n",
        "'''"
      ]
    },
    {
      "cell_type": "code",
      "execution_count": null,
      "id": "jVL4eshKhdqc",
      "metadata": {
        "id": "jVL4eshKhdqc"
      },
      "outputs": [],
      "source": [
        "employer_count = pd.read_sql_query(query_3_2, connection)\n",
        "display(employer_count)"
      ]
    },
    {
      "cell_type": "markdown",
      "id": "a2bfff1f-c975-4bf6-84be-2185d79dcb76",
      "metadata": {
        "id": "a2bfff1f-c975-4bf6-84be-2185d79dcb76"
      },
      "source": [
        "3. Посчитате с помощью запроса количество регионов (таблица areas)."
      ]
    },
    {
      "cell_type": "code",
      "execution_count": null,
      "id": "1m8QJwBYhey6",
      "metadata": {
        "id": "1m8QJwBYhey6"
      },
      "outputs": [],
      "source": [
        "query_3_3 = f'''\n",
        "SELECT\n",
        "    count(*) area_count\n",
        "FROM\n",
        "    AREAS\n",
        "'''"
      ]
    },
    {
      "cell_type": "code",
      "execution_count": null,
      "id": "EZsn9tlfhe7f",
      "metadata": {
        "id": "EZsn9tlfhe7f"
      },
      "outputs": [],
      "source": [
        "area_count = pd.read_sql_query(query_3_3, connection)\n",
        "display(area_count)"
      ]
    },
    {
      "cell_type": "markdown",
      "id": "41bb59f3-53cc-4a67-a5bc-bedf573955e4",
      "metadata": {
        "id": "41bb59f3-53cc-4a67-a5bc-bedf573955e4"
      },
      "source": [
        "4. Посчитате с помощью запроса количество сфер деятельности в базе (таблица industries)."
      ]
    },
    {
      "cell_type": "code",
      "execution_count": null,
      "id": "d286cf4c-707b-4cd2-9190-7ab3587d04a1",
      "metadata": {
        "id": "d286cf4c-707b-4cd2-9190-7ab3587d04a1"
      },
      "outputs": [],
      "source": [
        "query_3_4 = f'''\n",
        "SELECT\n",
        "    count(*) industries_count\n",
        "FROM\n",
        "    INDUSTRIES\n",
        "'''"
      ]
    },
    {
      "cell_type": "code",
      "execution_count": null,
      "id": "JYAaoZ4qhfzW",
      "metadata": {
        "id": "JYAaoZ4qhfzW"
      },
      "outputs": [],
      "source": [
        "industries_count = pd.read_sql_query(query_3_4, connection)\n",
        "display(industries_count)"
      ]
    },
    {
      "cell_type": "markdown",
      "id": "9a8a2181-6914-448b-85f1-38f5f18b8a93",
      "metadata": {
        "id": "9a8a2181-6914-448b-85f1-38f5f18b8a93"
      },
      "source": [
        "***"
      ]
    },
    {
      "cell_type": "markdown",
      "id": "bc70b6af",
      "metadata": {},
      "source": [
        "* По данным первичного анализа видно:\n",
        "1. Количество вакансий всего (49197), а кол-во работодателей (23501) это говорит о нехватке рабочей силы из-за малого кол-ва квалифицированных специалистов, ведь от 1 работодателя может быть предложенных рабочих мест до нескольких десятков.\n",
        "2. Кол-во регионов довольно большое 1362.\n",
        "3. Кол-во профессий всего 294 это говорит что найти работников будет довольно сложно, ведь по данным интернета в мире порядка 40 тыс. профессий. И размещенные вакаснии могут не подходить для работодателей.\n",
        "\n",
        "Для лучшего понимания нам нужно более детально проанализировать данные"
      ]
    },
    {
      "cell_type": "markdown",
      "id": "8d62a9f3-f64e-4fe7-bdac-c4dffa16155e",
      "metadata": {
        "id": "8d62a9f3-f64e-4fe7-bdac-c4dffa16155e"
      },
      "source": [
        "# Юнит 4. Детальный анализ вакансий"
      ]
    },
    {
      "cell_type": "markdown",
      "id": "93053d3d-b284-481a-9cf7-012d7014c0e0",
      "metadata": {
        "id": "93053d3d-b284-481a-9cf7-012d7014c0e0"
      },
      "source": [
        "1. Напишите запрос, который позволит узнать, сколько (cnt) вакансий в каждом регионе (area).\n",
        "Отсортируйте по количеству вакансий в порядке убывания."
      ]
    },
    {
      "cell_type": "code",
      "execution_count": null,
      "id": "3f069da6-fdc9-4ae7-b514-fafe2675efd3",
      "metadata": {
        "id": "3f069da6-fdc9-4ae7-b514-fafe2675efd3"
      },
      "outputs": [],
      "source": [
        "query_4_1 = f'''\n",
        "SELECT \n",
        "    a.name AS area, COUNT(v.name) AS cnt\n",
        "FROM \n",
        "    AREAS a\n",
        "LEFT JOIN \n",
        "    VACANCIES v ON a.id = v.area_id\n",
        "GROUP BY \n",
        "    a.name\n",
        "ORDER BY\n",
        "    cnt DESC\n",
        "LIMIT 5\n",
        "'''"
      ]
    },
    {
      "cell_type": "code",
      "execution_count": null,
      "id": "P7QL86hrjhRJ",
      "metadata": {
        "id": "P7QL86hrjhRJ"
      },
      "outputs": [],
      "source": [
        "cnt = pd.read_sql_query(query_4_1, connection)\n",
        "display(cnt)"
      ]
    },
    {
      "cell_type": "markdown",
      "id": "4266f0b6-1646-492a-88b4-2f6a46502135",
      "metadata": {
        "id": "4266f0b6-1646-492a-88b4-2f6a46502135"
      },
      "source": [
        "2. Напишите запрос, чтобы определить у какого количества вакансий заполнено хотя бы одно из двух полей с зарплатой."
      ]
    },
    {
      "cell_type": "code",
      "execution_count": null,
      "id": "0c44b350-72eb-4d65-8b54-a1fc449ba9fd",
      "metadata": {
        "id": "0c44b350-72eb-4d65-8b54-a1fc449ba9fd"
      },
      "outputs": [],
      "source": [
        "query_4_2 = f'''\n",
        "SELECT \n",
        "    COUNT(*) salary\n",
        "FROM \n",
        "    VACANCIES\n",
        "WHERE salary_from IS NOT NULL OR salary_to IS NOT NULL\n",
        "'''"
      ]
    },
    {
      "cell_type": "code",
      "execution_count": null,
      "id": "rhvwaMDkoWTi",
      "metadata": {
        "id": "rhvwaMDkoWTi"
      },
      "outputs": [],
      "source": [
        "salary = pd.read_sql_query(query_4_2, connection)\n",
        "display(salary)"
      ]
    },
    {
      "cell_type": "markdown",
      "id": "635c4d5d-f323-4c66-b428-50a088120aa0",
      "metadata": {
        "id": "635c4d5d-f323-4c66-b428-50a088120aa0"
      },
      "source": [
        "3. Найдите средние значения для нижней и верхней границы зарплатной вилки. Округлите значения до целого."
      ]
    },
    {
      "cell_type": "code",
      "execution_count": null,
      "id": "603cdbe4-0ec3-4106-8eaf-c73fcdd29165",
      "metadata": {
        "id": "603cdbe4-0ec3-4106-8eaf-c73fcdd29165"
      },
      "outputs": [],
      "source": [
        "query_4_3 = f'''\n",
        "SELECT \n",
        "    ROUND(AVG(salary_from)) max_mean,\n",
        "    ROUND(AVG(salary_to)) min_mean\n",
        "FROM \n",
        "    VACANCIES\n",
        "'''"
      ]
    },
    {
      "cell_type": "code",
      "execution_count": null,
      "id": "pswpAb66ovZZ",
      "metadata": {
        "id": "pswpAb66ovZZ"
      },
      "outputs": [],
      "source": [
        "salary_mean = pd.read_sql_query(query_4_3, connection)\n",
        "display(salary_mean)"
      ]
    },
    {
      "cell_type": "markdown",
      "id": "f3fdaec9-5fd3-4260-9cf5-1d7406b628a5",
      "metadata": {
        "id": "f3fdaec9-5fd3-4260-9cf5-1d7406b628a5"
      },
      "source": [
        "4. Напишите запрос, который выведет количество вакансий для каждого сочетания типа рабочего графика (schedule) и типа трудоустройства (employment), используемого в вакансиях. Результат отсортируйте по убыванию количества.\n"
      ]
    },
    {
      "cell_type": "code",
      "execution_count": null,
      "id": "1ea710ec-871b-431e-9462-c7d0fd87011b",
      "metadata": {
        "id": "1ea710ec-871b-431e-9462-c7d0fd87011b"
      },
      "outputs": [],
      "source": [
        "query_4_4 = f'''\n",
        "SELECT\n",
        "    schedule,\n",
        "    employment,\n",
        "    COUNT(*) schudule_employment\n",
        "FROM \n",
        "    VACANCIES\n",
        "GROUP BY\n",
        "    schedule,\n",
        "    employment\n",
        "ORDER BY schudule_employment DESC\n",
        "'''"
      ]
    },
    {
      "cell_type": "code",
      "execution_count": null,
      "id": "1e0ef8f6",
      "metadata": {},
      "outputs": [],
      "source": [
        "schudule_employment = pd.read_sql_query(query_4_4, connection)\n",
        "display(schudule_employment)"
      ]
    },
    {
      "cell_type": "markdown",
      "id": "0136ffee-0ead-4a6b-b608-61d1c753a438",
      "metadata": {
        "id": "0136ffee-0ead-4a6b-b608-61d1c753a438"
      },
      "source": [
        "5. Напишите запрос, выводящий значения поля Требуемый опыт работы (experience) в порядке возрастания количества вакансий, в которых указан данный вариант опыта. "
      ]
    },
    {
      "cell_type": "code",
      "execution_count": null,
      "id": "5b3a8e79-f7ab-4008-b767-12aea3a205ea",
      "metadata": {
        "id": "5b3a8e79-f7ab-4008-b767-12aea3a205ea"
      },
      "outputs": [],
      "source": [
        "query_4_5 = f'''\n",
        "SELECT\n",
        "    experience ex_year,\n",
        "    count(*)\n",
        "FROM \n",
        "    VACANCIES\n",
        "GROUP BY\n",
        "    experience\n",
        "ORDER BY 2 ASC\n",
        "'''"
      ]
    },
    {
      "cell_type": "code",
      "execution_count": null,
      "id": "3Is64Y-hpDpq",
      "metadata": {
        "id": "3Is64Y-hpDpq"
      },
      "outputs": [],
      "source": [
        "ex_year = pd.read_sql_query(query_4_5, connection)\n",
        "display(ex_year)"
      ]
    },
    {
      "cell_type": "markdown",
      "id": "oq2b7n1QpIka",
      "metadata": {
        "id": "oq2b7n1QpIka"
      },
      "source": [
        "***"
      ]
    },
    {
      "cell_type": "markdown",
      "id": "a8329d2d",
      "metadata": {},
      "source": [
        "* Выводы по детальному анализу вакансий:\n",
        "1. Топ 5 кол-во вакансий находятся в городах милиониках это видно по выведеннуму запросу в задании 1.\n",
        "2. Половина кандидатов имеет заполненые поля з/п ктр они хотят, это может говорить о том что они следят за рынком труда и знают среднюю з/п. А также видно по з/п вилке что колебание между нижней и верхней границей довольно большое 40 тыс.руб. это может говорить о разных вещах: колебание зарплат у разных работодателей, возможно соискатель желает максимульную зп если от него будут требовать командировки, а также переезд в другой город.\n",
        "3. Большое кол-во соискателей ищут работу в связке \"Полный день-Полная занятость\"\n",
        "4. А также видно что около 15% соискателей не имеют никакого опыта работы. Возможно это выпустившиеся студенты, те кто хочет сменить вид своей работы и он не указывает никакого опыта в данной профессии."
      ]
    },
    {
      "cell_type": "markdown",
      "id": "7ea20ab6-04a7-40a0-adec-443a0e5a42c3",
      "metadata": {
        "id": "7ea20ab6-04a7-40a0-adec-443a0e5a42c3"
      },
      "source": [
        "# Юнит 5. Анализ работодателей"
      ]
    },
    {
      "cell_type": "markdown",
      "id": "968aed80-74ef-4ffb-b5bf-c65b84e9caea",
      "metadata": {
        "id": "968aed80-74ef-4ffb-b5bf-c65b84e9caea"
      },
      "source": [
        "1. Напишите запрос, который позволит узнать, какие работодатели находятся на первом и пятом месте по количеству вакансий."
      ]
    },
    {
      "cell_type": "code",
      "execution_count": null,
      "id": "f2d62796-d400-4ec1-a675-88112739a50e",
      "metadata": {
        "id": "f2d62796-d400-4ec1-a675-88112739a50e"
      },
      "outputs": [],
      "source": [
        "query_5_1 = f'''\n",
        "SELECT\n",
        "    e.name employers_name,\n",
        "    count(v.id) vac_count\n",
        "FROM \n",
        "    EMPLOYERS e\n",
        "LEFT JOIN\n",
        "    VACANCIES v ON e.id = v.employer_id\n",
        "GROUP BY\n",
        "    e.name\n",
        "ORDER BY\n",
        "    2 DESC\n",
        "LIMIT 5\n",
        "'''"
      ]
    },
    {
      "cell_type": "code",
      "execution_count": null,
      "id": "64tOMkAxqkQk",
      "metadata": {
        "id": "64tOMkAxqkQk"
      },
      "outputs": [],
      "source": [
        "employers_name = pd.read_sql_query(query_5_1, connection)\n",
        "display(employers_name)"
      ]
    },
    {
      "cell_type": "markdown",
      "id": "68377cfc-b378-43dc-ab7d-1195abf2c515",
      "metadata": {
        "id": "68377cfc-b378-43dc-ab7d-1195abf2c515"
      },
      "source": [
        "2. Напишите запрос, который для каждого региона выведет количество работодателей и вакансий в нём.\n",
        "Среди регионов, в которых нет вакансий, найдите тот, в котором наибольшее количество работодателей.\n"
      ]
    },
    {
      "cell_type": "code",
      "execution_count": null,
      "id": "dd7df27a-e3e8-412e-a21a-5d389b71e891",
      "metadata": {
        "id": "dd7df27a-e3e8-412e-a21a-5d389b71e891"
      },
      "outputs": [],
      "source": [
        "query_5_2 = f'''\n",
        "SELECT\n",
        "    a.name employers_area_name,\n",
        "    count(e.id) employers_count\n",
        "FROM \n",
        "    AREAS a\n",
        "LEFT JOIN\n",
        "    EMPLOYERS e on e.area = a.id\n",
        "LEFT JOIN\n",
        "    VACANCIES v on a.id = v.area_id\n",
        "GROUP BY\n",
        "    1\n",
        "HAVING \n",
        "    count(v.id) = 0\n",
        "ORDER BY \n",
        "    employers_count DESC\n",
        "'''"
      ]
    },
    {
      "cell_type": "code",
      "execution_count": null,
      "id": "x1ikWbydrbf6",
      "metadata": {
        "id": "x1ikWbydrbf6"
      },
      "outputs": [],
      "source": [
        "employers_area_name = pd.read_sql_query(query_5_2, connection)\n",
        "display(employers_area_name)"
      ]
    },
    {
      "cell_type": "markdown",
      "id": "f2fe0acb-ab1a-4e15-9326-2560e22d73c1",
      "metadata": {
        "id": "f2fe0acb-ab1a-4e15-9326-2560e22d73c1"
      },
      "source": [
        "3. Для каждого работодателя посчитайте количество регионов, в которых он публикует свои вакансии. Отсортируйте результат по убыванию количества.\n"
      ]
    },
    {
      "cell_type": "code",
      "execution_count": null,
      "id": "6271f8ad-bd2e-4196-ae4a-5b39c4c1010e",
      "metadata": {
        "id": "6271f8ad-bd2e-4196-ae4a-5b39c4c1010e"
      },
      "outputs": [],
      "source": [
        "query_5_3 = f'''\n",
        "SELECT\n",
        "    e.name AS employers_area,\n",
        "    COUNT(DISTINCT v.area_id) AS area_count\n",
        "FROM \n",
        "    EMPLOYERS e\n",
        "JOIN\n",
        "    VACANCIES v ON e.id = v.employer_id\n",
        "GROUP BY\n",
        "    e.name\n",
        "ORDER BY\n",
        "    area_count DESC\n",
        "'''"
      ]
    },
    {
      "cell_type": "code",
      "execution_count": null,
      "id": "1EIvX3HasH4F",
      "metadata": {
        "id": "1EIvX3HasH4F"
      },
      "outputs": [],
      "source": [
        "employers_area = pd.read_sql_query(query_5_3, connection)\n",
        "display(employers_area)"
      ]
    },
    {
      "cell_type": "markdown",
      "id": "eab2206d-d95b-468b-8e5f-34381abf0ce7",
      "metadata": {
        "id": "eab2206d-d95b-468b-8e5f-34381abf0ce7"
      },
      "source": [
        "4. Напишите запрос для подсчёта количества работодателей, у которых не указана сфера деятельности. "
      ]
    },
    {
      "cell_type": "code",
      "execution_count": null,
      "id": "80defb23-bfb1-4a18-8be6-bf36aa7165d5",
      "metadata": {
        "id": "80defb23-bfb1-4a18-8be6-bf36aa7165d5"
      },
      "outputs": [],
      "source": [
        "query_5_4 = f'''\n",
        "SELECT\n",
        "    COUNT(DISTINCT e.id) AS employer_count\n",
        "FROM \n",
        "    EMPLOYERS e\n",
        "LEFT JOIN\n",
        "    EMPLOYERS_INDUSTRIES e_i ON e.id = e_i.employer_id\n",
        "WHERE\n",
        "    e_i.industry_id IS NULL\n",
        "'''"
      ]
    },
    {
      "cell_type": "code",
      "execution_count": null,
      "id": "Dp_yCx6ysQSu",
      "metadata": {
        "id": "Dp_yCx6ysQSu"
      },
      "outputs": [],
      "source": [
        "industry = pd.read_sql_query(query_5_4, connection)\n",
        "display(industry)"
      ]
    },
    {
      "cell_type": "markdown",
      "id": "0112af31-f6b0-4e3b-82ab-71296e752e5e",
      "metadata": {
        "id": "0112af31-f6b0-4e3b-82ab-71296e752e5e"
      },
      "source": [
        "5. Напишите запрос, чтобы узнать название компании, находящейся на третьем месте в алфавитном списке (по названию) компаний, у которых указано четыре сферы деятельности. "
      ]
    },
    {
      "cell_type": "code",
      "execution_count": null,
      "id": "973b0cfc-a972-470a-8b4a-68744ef220c4",
      "metadata": {
        "id": "973b0cfc-a972-470a-8b4a-68744ef220c4"
      },
      "outputs": [],
      "source": [
        "query_5_5 = f'''\n",
        "SELECT\n",
        "    e.id,\n",
        "    e.name,\n",
        "    COUNT(e_i.industry_id) AS industry_count\n",
        "FROM \n",
        "    EMPLOYERS e\n",
        "LEFT JOIN\n",
        "    EMPLOYERS_INDUSTRIES e_i ON e.id = e_i.employer_id\n",
        "GROUP BY\n",
        "    e.id, e.name\n",
        "HAVING\n",
        "    COUNT(e_i.industry_id) = 4\n",
        "ORDER BY\n",
        "    name\n",
        "'''"
      ]
    },
    {
      "cell_type": "code",
      "execution_count": null,
      "id": "xsPtpp8EsaED",
      "metadata": {
        "id": "xsPtpp8EsaED"
      },
      "outputs": [],
      "source": [
        "industry_count = pd.read_sql_query(query_5_5, connection)\n",
        "display(industry_count)"
      ]
    },
    {
      "cell_type": "markdown",
      "id": "3bfcfdaf-755d-4d2b-8ed8-326201dc07ab",
      "metadata": {
        "id": "3bfcfdaf-755d-4d2b-8ed8-326201dc07ab"
      },
      "source": [
        "6. С помощью запроса выясните, у какого количества работодателей в качестве сферы деятельности указана Разработка программного обеспечения.\n"
      ]
    },
    {
      "cell_type": "code",
      "execution_count": null,
      "id": "ad3f270f-2991-47eb-929b-e8f88a55b0d1",
      "metadata": {
        "id": "ad3f270f-2991-47eb-929b-e8f88a55b0d1"
      },
      "outputs": [],
      "source": [
        "query_5_6 = f'''\n",
        "SELECT\n",
        "    COUNT(DISTINCT e.id) AS employer_count\n",
        "FROM \n",
        "    EMPLOYERS e\n",
        "JOIN\n",
        "    EMPLOYERS_INDUSTRIES e_i ON e.id = e_i.employer_id\n",
        "WHERE\n",
        "    e_i.industry_id IN (\n",
        "        SELECT id FROM INDUSTRIES WHERE name = 'Разработка программного обеспечения'\n",
        "    )\n",
        "'''"
      ]
    },
    {
      "cell_type": "code",
      "execution_count": null,
      "id": "H72qxWM0shPR",
      "metadata": {
        "id": "H72qxWM0shPR"
      },
      "outputs": [],
      "source": [
        "employer_count = pd.read_sql_query(query_5_6, connection)\n",
        "display(employer_count)"
      ]
    },
    {
      "cell_type": "markdown",
      "id": "7b02bb86-0546-40fb-94a4-242f050a5c57",
      "metadata": {
        "id": "7b02bb86-0546-40fb-94a4-242f050a5c57"
      },
      "source": [
        "7. Для компании «Яндекс» выведите список регионов-миллионников, в которых представлены вакансии компании, вместе с количеством вакансий в этих регионах. Также добавьте строку Total с общим количеством вакансий компании. Результат отсортируйте по возрастанию количества.\n",
        "\n",
        "Список городов-милионников надо взять [отсюда](https://ru.wikipedia.org/wiki/%D0%93%D0%BE%D1%80%D0%BE%D0%B4%D0%B0-%D0%BC%D0%B8%D0%BB%D0%BB%D0%B8%D0%BE%D0%BD%D0%B5%D1%80%D1%8B_%D0%A0%D0%BE%D1%81%D1%81%D0%B8%D0%B8). \n",
        "\n",
        "Если возникнут трудности с этим задание посмотрите материалы модуля  PYTHON-17. Как получать данные из веб-источников и API. "
      ]
    },
    {
      "cell_type": "code",
      "execution_count": null,
      "id": "ZdfrL6gIs1Pn",
      "metadata": {
        "id": "ZdfrL6gIs1Pn"
      },
      "outputs": [],
      "source": [
        "url = \"https://ru.wikipedia.org/wiki/%D0%93%D0%BE%D1%80%D0%BE%D0%B4%D0%B0-%D0%BC%D0%B8%D0%BB%D0%BB%D0%B8%D0%BE%D0%BD%D0%B5%D1%80%D1%8B_%D0%A0%D0%BE%D1%81%D1%81%D0%B8%D0%B8\"\n",
        "response = requests.get(url)\n",
        "headers = {'User-Agent': 'Mozilla/5.0 (Windows NT 10.0; Win64; x64) AppleWebKit/537.36 (KHTML, like Gecko) Chrome/91.0.4472.124 Safari/537.36'}\n",
        "soup = BeautifulSoup(response.text, 'html.parser')\n",
        "# Извлечение таблицы с городами-миллионниками\n",
        "table = soup.find('table', {'class': 'standard sortable jquery-tablesorter'})\n",
        "\n",
        "# Получение списка городов из таблицы\n",
        "cities = []\n",
        "HTML_data = soup.find_all(\"table\")[0].find_all(\"tr\")[1:] # Пропускаем заголовок таблицы\n",
        "for row in HTML_data:\n",
        "    city_cell = row.find_all('td')[1]  # Получаем ячейку с названием города\n",
        "    city = city_cell.text.strip()  # Извлекаем текст из ячейки\n",
        "    cities.append(city)\n",
        "\n",
        "cities_set = tuple(cities)\n",
        "display(cities_set)"
      ]
    },
    {
      "cell_type": "code",
      "execution_count": null,
      "id": "5a0e32a4-e68a-4365-8a39-2fe24c542c36",
      "metadata": {
        "id": "5a0e32a4-e68a-4365-8a39-2fe24c542c36"
      },
      "outputs": [],
      "source": [
        "query_5_7 = f'''\n",
        "SELECT \n",
        "    \"Название города\",\n",
        "    cnt\n",
        "FROM\n",
        "    (SELECT \n",
        "        a.name AS \"Название города\",\n",
        "    COUNT\n",
        "        (v.id) AS cnt\n",
        "    FROM \n",
        "        areas a \n",
        "    LEFT JOIN \n",
        "        vacancies v ON v.area_id = a.id\n",
        "    LEFT JOIN \n",
        "        employers AS e ON e.id = v.employer_id\n",
        "    WHERE \n",
        "        e.name = 'Яндекс'\n",
        "        AND a.name IN {cities_set}\n",
        "    GROUP BY 1 \n",
        "\n",
        "    UNION ALL\n",
        "\n",
        "    SELECT \n",
        "        'Total' AS \"Название города\",\n",
        "        COUNT(v.id) AS cnt\n",
        "    FROM \n",
        "        areas a \n",
        "    LEFT JOIN \n",
        "        vacancies v ON v.area_id = a.id\n",
        "    LEFT JOIN \n",
        "        employers AS e ON e.id = v.employer_id\n",
        "    WHERE \n",
        "        e.name = 'Яндекс'\n",
        "        AND a.name IN {cities_set}\n",
        "    GROUP BY \n",
        "        1) AS city\n",
        "'''"
      ]
    },
    {
      "cell_type": "code",
      "execution_count": null,
      "id": "ttPhiO1rsvPq",
      "metadata": {
        "id": "ttPhiO1rsvPq"
      },
      "outputs": [],
      "source": [
        "city = pd.read_sql_query(query_5_7, connection)\n",
        "display(city)"
      ]
    },
    {
      "cell_type": "markdown",
      "id": "04966e40-3bc3-4dc8-9ba2-e80580ce3abc",
      "metadata": {
        "id": "04966e40-3bc3-4dc8-9ba2-e80580ce3abc"
      },
      "source": [
        "***"
      ]
    },
    {
      "cell_type": "markdown",
      "id": "de834ec4",
      "metadata": {},
      "source": [
        "На основе представленных данных о работодателях можно сделать несколько выводов:\n",
        "\n",
        "1. Лидеры по количеству вакансий:\n",
        "   - Найбольшее количество вакансий (1933) предлагает Яндекс, что подтверждает его статус одного из ведущих работодателей в стране.\n",
        "   - Следующими по количеству вакансий идут Ростелеком (491), Тинькофф (444), СБЕР (428) и Газпром нефть (331). Это указывает на высокую активность этих компаний в поиске сотрудников.\n",
        "\n",
        "2. Географическая распределённость работодателей:\n",
        "   - Наибольшее число работодателей сосредоточено в России (410), за ней следует Казахстан (207).\n",
        "   - В пределах России более всего работодателей представлено в Московской области (75) и Краснодарском крае (19). Это может указывать на экономическую активность и возможности в этих регионах.\n",
        "\n",
        "3. Концентрация вакансий по регионам:\n",
        "   - Вакансии распределены неравномерно по городу. Москва, с 54 вакансиями, является лидером среди российских городов, за ней следует Санкт-Петербург с 42 вакансиями. Это подтверждает предполагаемую концентрацию рабочих мест в крупных городах.\n",
        "\n",
        "4. Наличие работодателей в небольших населённых пунктах:\n",
        "   - Существует множество работодателей, предлагающих единичные вакансии, даже в малых городах, таких как Струнино, Славгород и другие. Это может свидетельствовать о наличии маленьких фирм и индивидуальных предпринимателей, создающих рабочие места.\n",
        "\n",
        "5. Конкуренция среди работодателей:\n",
        "   - Крупные компании, такие как Яндекс, Ростелеком и Газпром нефть, продолжают сохранять лидерство, что может затруднять поиск работы для соискателей, если они особенно популярны среди работников.\n",
        "\n",
        "6. Возможности для карьерного роста:\n",
        "   - Наличие большого числа вакансий в крупных компаниях означает, что потенциальные соискатели могут рассчитывать на возможность карьерного роста.\n",
        "\n",
        "Эти выводы могут помочь соискателям и исследователям рынка труда лучше понимать текущее состояние занятости и тенденции в различных регионах и отраслях."
      ]
    },
    {
      "cell_type": "markdown",
      "id": "b1ef156a-efcb-49ce-bb23-90763e7f35b2",
      "metadata": {
        "id": "b1ef156a-efcb-49ce-bb23-90763e7f35b2",
        "tags": []
      },
      "source": [
        "# Юнит 6. Предметный анализ"
      ]
    },
    {
      "cell_type": "markdown",
      "id": "b9cd50a0-992d-4988-8463-2b2b1c4629b4",
      "metadata": {
        "id": "b9cd50a0-992d-4988-8463-2b2b1c4629b4"
      },
      "source": [
        "1. Сколько вакансий имеет отношение к данным?\n",
        "\n",
        "Считаем, что вакансия имеет отношение к данным, если в её названии содержатся слова 'data' или 'данн'.\n",
        "\n",
        "*Подсказка: Обратите внимание, что названия вакансий могут быть написаны в любом регистре.* \n"
      ]
    },
    {
      "cell_type": "code",
      "execution_count": null,
      "id": "54ab0e50-c0f1-47cc-a54b-bc5c8bc363f9",
      "metadata": {
        "id": "54ab0e50-c0f1-47cc-a54b-bc5c8bc363f9"
      },
      "outputs": [],
      "source": [
        "query_6_1 = f'''\n",
        "SELECT\n",
        "    count(*) as experience_count\n",
        "FROM\n",
        "    VACANCIES v\n",
        "WHERE \n",
        "    LOWER(v.name) LIKE '%data%' \n",
        "    OR LOWER(v.name) LIKE '%данн%'\n",
        "'''"
      ]
    },
    {
      "cell_type": "code",
      "execution_count": null,
      "id": "21a4decb",
      "metadata": {},
      "outputs": [],
      "source": [
        "experience_count = pd.read_sql_query(query_6_1, connection)\n",
        "display(experience_count)"
      ]
    },
    {
      "cell_type": "markdown",
      "id": "4dea20cb-a36b-474a-a0b9-e08e8e3857a5",
      "metadata": {
        "id": "4dea20cb-a36b-474a-a0b9-e08e8e3857a5"
      },
      "source": [
        "2. Сколько есть подходящих вакансий для начинающего дата-сайентиста? \n",
        "Будем считать вакансиями для дата-сайентистов такие, в названии которых есть хотя бы одно из следующих сочетаний:\n",
        "* 'data scientist'\n",
        "* 'data science'\n",
        "* 'исследователь данных'\n",
        "* 'ML' (здесь не нужно брать вакансии по HTML)\n",
        "* 'machine learning'\n",
        "* 'машинн%обучен%'\n",
        "\n",
        "** В следующих заданиях мы продолжим работать с вакансиями по этому условию.*\n",
        "\n",
        "Считаем вакансиями для специалистов уровня Junior следующие:\n",
        "* в названии есть слово 'junior' *или*\n",
        "* требуемый опыт — Нет опыта *или*\n",
        "* тип трудоустройства — Стажировка.\n",
        " "
      ]
    },
    {
      "cell_type": "code",
      "execution_count": null,
      "id": "9c61b3c0-bb66-46c9-ae1e-81d3f5752b4a",
      "metadata": {
        "id": "9c61b3c0-bb66-46c9-ae1e-81d3f5752b4a"
      },
      "outputs": [],
      "source": [
        "query_6_2 = f'''\n",
        "SELECT\n",
        "    count(*) as ds_count\n",
        "FROM\n",
        "    VACANCIES v\n",
        "WHERE\n",
        "(\n",
        "    (v.name ILIKE '%data scientist%') \n",
        "    OR (v.name ILIKE '%data science%') \n",
        "    OR (v.name ILIKE '%исследователь данных%')\n",
        "    OR ((v.name ILIKE '%ML%') AND (v.name NOT ILIKE '%HTML%'))\n",
        "    OR (v.name ILIKE '%machine learning%')\n",
        "    OR (v.name ILIKE '%машинн%обучен%')\n",
        ")\n",
        "    AND (v.name ILIKE '%junior%'\n",
        "    OR v.experience ILIKE '%Нет опыта%'\n",
        "    OR v.employment ILIKE '%Стажировка%')\n",
        "'''"
      ]
    },
    {
      "cell_type": "code",
      "execution_count": null,
      "id": "ZNM-LLYuu1dj",
      "metadata": {
        "id": "ZNM-LLYuu1dj"
      },
      "outputs": [],
      "source": [
        "ds_count = pd.read_sql_query(query_6_2, connection)\n",
        "display(ds_count)"
      ]
    },
    {
      "cell_type": "markdown",
      "id": "eedceb80-c5ca-480e-b27a-278dfb8b4438",
      "metadata": {
        "id": "eedceb80-c5ca-480e-b27a-278dfb8b4438"
      },
      "source": [
        "3. Сколько есть вакансий для DS, в которых в качестве ключевого навыка указан SQL или postgres?\n",
        "\n",
        "** Критерии для отнесения вакансии к DS указаны в предыдущем задании.*"
      ]
    },
    {
      "cell_type": "code",
      "execution_count": null,
      "id": "69621713-0cc5-4f1b-a1d7-bb144fa6148c",
      "metadata": {
        "id": "69621713-0cc5-4f1b-a1d7-bb144fa6148c"
      },
      "outputs": [],
      "source": [
        "query_6_3 = f'''\n",
        "SELECT\n",
        "    count(*) as sql_count\n",
        "FROM\n",
        "    VACANCIES v\n",
        "WHERE\n",
        "(\n",
        "    (v.name ILIKE '%data scientist%') \n",
        "    OR (v.name ILIKE '%data science%') \n",
        "    OR (v.name ILIKE '%исследователь данных%')\n",
        "    OR ((v.name ILIKE '%ML%') AND (v.name NOT ILIKE '%HTML%'))\n",
        "    OR (v.name ILIKE '%machine learning%')\n",
        "    OR (v.name ILIKE '%машинн%обучен%')\n",
        ")\n",
        "AND\n",
        "(\n",
        "    (v.key_skills ILIKE '%SQL%')\n",
        "    OR (v.key_skills ILIKE '%postgres%')\n",
        ")\n",
        "'''"
      ]
    },
    {
      "cell_type": "code",
      "execution_count": null,
      "id": "alA8WEAAvGdf",
      "metadata": {
        "id": "alA8WEAAvGdf"
      },
      "outputs": [],
      "source": [
        "sql_count = pd.read_sql_query(query_6_3, connection)\n",
        "display(sql_count)"
      ]
    },
    {
      "cell_type": "markdown",
      "id": "1be1e9c6-37cf-4a5f-bfeb-04cab799dc80",
      "metadata": {
        "id": "1be1e9c6-37cf-4a5f-bfeb-04cab799dc80"
      },
      "source": [
        "4. Проверьте, насколько популярен Python в требованиях работодателей к DS.Для этого вычислите количество вакансий, в которых в качестве ключевого навыка указан Python.\n",
        "\n",
        "** Это можно сделать помощью запроса, аналогичного предыдущему.*"
      ]
    },
    {
      "cell_type": "code",
      "execution_count": null,
      "id": "0036a355-9ccf-4564-8b01-73d8194297e7",
      "metadata": {
        "id": "0036a355-9ccf-4564-8b01-73d8194297e7"
      },
      "outputs": [],
      "source": [
        "query_6_4 = f'''\n",
        "SELECT\n",
        "    count(*) as python_count\n",
        "FROM\n",
        "    VACANCIES v\n",
        "WHERE\n",
        "(\n",
        "    (v.name ILIKE '%data scientist%') \n",
        "    OR (v.name ILIKE '%data science%') \n",
        "    OR (v.name ILIKE '%исследователь данных%')\n",
        "    OR ((v.name ILIKE '%ML%') AND (v.name NOT ILIKE '%HTML%'))\n",
        "    OR (v.name ILIKE '%machine learning%')\n",
        "    OR (v.name ILIKE '%машинн%обучен%')\n",
        ")\n",
        "AND\n",
        "(\n",
        "    (v.key_skills ILIKE '%PYTHON%')\n",
        ")\n",
        "'''"
      ]
    },
    {
      "cell_type": "code",
      "execution_count": null,
      "id": "1i-5WyucvQ6v",
      "metadata": {
        "id": "1i-5WyucvQ6v"
      },
      "outputs": [],
      "source": [
        "python_count = pd.read_sql_query(query_6_4, connection)\n",
        "display(python_count)"
      ]
    },
    {
      "cell_type": "markdown",
      "id": "ec3c8db7-fa21-4a41-a994-1af63742a642",
      "metadata": {
        "id": "ec3c8db7-fa21-4a41-a994-1af63742a642"
      },
      "source": [
        "5. Сколько ключевых навыков в среднем указывают в вакансиях для DS?\n",
        "Ответ округлите до двух знаков после точки-разделителя."
      ]
    },
    {
      "cell_type": "code",
      "execution_count": null,
      "id": "949132bc-d5b6-4611-8218-0b9a504d74f4",
      "metadata": {
        "id": "949132bc-d5b6-4611-8218-0b9a504d74f4"
      },
      "outputs": [],
      "source": [
        "query_6_5 = f'''\n",
        "SELECT\n",
        "    round(avg(length(key_skills) - length(replace(key_skills,CHR(9),''))+1),2) as skills_counts\n",
        "FROM\n",
        "    VACANCIES v\n",
        "WHERE\n",
        "(\n",
        "    (v.name ILIKE '%data scientist%') \n",
        "    OR (v.name ILIKE '%data science%') \n",
        "    OR (v.name ILIKE '%исследователь данных%')\n",
        "    OR ((v.name LIKE '%ML%') AND (v.name NOT ILIKE '%HTML%'))\n",
        "    OR (v.name ILIKE '%machine learning%')\n",
        "    OR (v.name ILIKE '%машинн%обучен%')\n",
        "    AND (v.key_skills IS NOT NULL)\n",
        ")\n",
        "'''"
      ]
    },
    {
      "cell_type": "code",
      "execution_count": null,
      "id": "a3V24Tvmviqk",
      "metadata": {
        "id": "a3V24Tvmviqk"
      },
      "outputs": [],
      "source": [
        "skills_counts = pd.read_sql_query(query_6_5, connection)\n",
        "display(skills_counts)"
      ]
    },
    {
      "cell_type": "markdown",
      "id": "1041c17a-ca8f-4543-a0ca-32778914fb00",
      "metadata": {
        "id": "1041c17a-ca8f-4543-a0ca-32778914fb00"
      },
      "source": [
        "6. Напишите запрос, позволяющий вычислить, какую зарплату для DS в **среднем** указывают для каждого типа требуемого опыта (уникальное значение из поля *experience*). \n",
        "\n",
        "При решении задачи примите во внимание следующее:\n",
        "1. Рассматриваем только вакансии, у которых заполнено хотя бы одно из двух полей с зарплатой.\n",
        "2. Если заполнены оба поля с зарплатой, то считаем зарплату по каждой вакансии как сумму двух полей, делённую на 2. Если заполнено только одно из полей, то его и считаем зарплатой по вакансии.\n",
        "3. Если в расчётах участвует null, в результате он тоже даст null (посмотрите, что возвращает запрос select 1 + null). Чтобы избежать этой ситуацию, мы воспользуемся функцией [coalesce](https://postgrespro.ru/docs/postgresql/9.5/functions-conditional#functions-coalesce-nvl-ifnull), которая заменит null на значение, которое мы передадим. Например, посмотрите, что возвращает запрос `select 1 + coalesce(null, 0)`\n",
        "\n",
        "Выясните, на какую зарплату в среднем может рассчитывать дата-сайентист с опытом работы от 3 до 6 лет. Результат округлите до целого числа. "
      ]
    },
    {
      "cell_type": "code",
      "execution_count": null,
      "id": "6a743d39-5204-48d3-8271-b9f88e68d40e",
      "metadata": {
        "id": "6a743d39-5204-48d3-8271-b9f88e68d40e"
      },
      "outputs": [],
      "source": [
        "query_6_6 = f'''\n",
        "SELECT\n",
        "    DISTINCT experience as year,\n",
        "    ROUND(AVG(coalesce((v.salary_from + v.salary_to) / 2, v.salary_from, v.salary_to)), 0) as avg_salary\n",
        "FROM\n",
        "    VACANCIES v\n",
        "WHERE\n",
        "(\n",
        "    (v.name ILIKE '%data scientist%') \n",
        "    OR (v.name ILIKE '%data science%') \n",
        "    OR (v.name ILIKE '%исследователь данных%')\n",
        "    OR ((v.name LIKE '%ML%') AND (v.name NOT ILIKE '%HTML%'))\n",
        "    OR (v.name ILIKE '%machine learning%')\n",
        "    OR (v.name ILIKE '%машинн%обучен%')\n",
        "    AND (v.key_skills IS NOT NULL)\n",
        ")\n",
        "GROUP BY\n",
        "    v.experience\n",
        "'''"
      ]
    },
    {
      "cell_type": "code",
      "execution_count": null,
      "id": "aRIJ0mZEwU1_",
      "metadata": {
        "id": "aRIJ0mZEwU1_"
      },
      "outputs": [],
      "source": [
        "df_salary = pd.read_sql_query(query_6_6, connection)\n",
        "display(df_salary)\n"
      ]
    },
    {
      "cell_type": "code",
      "execution_count": null,
      "id": "8b558ba5",
      "metadata": {},
      "outputs": [],
      "source": []
    },
    {
      "cell_type": "markdown",
      "id": "6a7892b4-4113-4746-adce-18aa2844f18e",
      "metadata": {
        "id": "6a7892b4-4113-4746-adce-18aa2844f18e"
      },
      "source": [
        "***"
      ]
    },
    {
      "cell_type": "markdown",
      "id": "cfb988c2",
      "metadata": {},
      "source": [
        "На основе представленных данных по предметному анализу можно сделать несколько выводов:\n",
        "    \n",
        "   \n",
        "1. Статистика по навыкам:\n",
        "    - Для удовлетворительной работы или для получения более высокой зарплаты необходимо иметь среднее количество навыков — 6.41.\n",
        "\n",
        "2. Зарплаты в зависимости от опыта:\n",
        "    - По имеющимся категориям можно заметить, что зарплата значительно растёт с увеличением опыта. Специалисты с 1-3 годами получают в среднем 145236.0, что значительно меньше, чем у тех, у кого опыт от 3 до 6 лет.\n",
        "    - Сравнение опыта показывает, что наиболее высокие зарплаты в категории \"От 3 до 6 лет\" (243115.0).\n",
        "    - Отсутствие данных для категории \"Более 6 лет\" может требовать дальнейшего изучения, чтобы понять, какую зарплату получают наиболее опытные специалисты.\n",
        "    \n",
        "3. Общий вывод:\n",
        "   - В целом, решение о том, как развивать навыки, может быть связано с желанием увеличить свою компенсацию. Специалистам рекомендуется стремиться получить опыт работы более 3 лет, чтобы повысить свои шансы на получение более высокой зарплаты.\n",
        "   - Развитие ряда востребованных навыков (например, Python и SQL) может помочь в повышении заработка и улучшении карьерных перспектив.\n",
        "\n",
        "Дополнительно, для более глубокого анализа могли бы помочь такие факторы, как город, специфика отрасли, текущее состояние рынка труда и другие параметры.\n"
      ]
    },
    {
      "cell_type": "markdown",
      "id": "c0ED6fh7wiBT",
      "metadata": {
        "id": "c0ED6fh7wiBT"
      },
      "source": [
        "# Общий вывод по проекту"
      ]
    },
    {
      "cell_type": "markdown",
      "id": "8df02659",
      "metadata": {},
      "source": [
        "Доп т/з: Сколько в среднем ключевых навыков имеет специалисты по DS в разрезе опыта работы."
      ]
    },
    {
      "cell_type": "code",
      "execution_count": null,
      "id": "h9B3BL-wwj18",
      "metadata": {
        "id": "h9B3BL-wwj18"
      },
      "outputs": [],
      "source": [
        "query_6_7 = f'''\n",
        "SELECT\n",
        "    v.experience,\n",
        "    round(avg(length(key_skills) - length(replace(key_skills,CHR(9),''))+1),2) as skills_counts\n",
        "FROM\n",
        "    VACANCIES v\n",
        "WHERE\n",
        "    (\n",
        "    (v.name ILIKE '%data scientist%') \n",
        "    OR (v.name ILIKE '%data science%') \n",
        "    OR (v.name ILIKE '%исследователь данных%')\n",
        "    OR ((v.name LIKE '%ML%') AND (v.name NOT ILIKE '%HTML%'))\n",
        "    OR (v.name ILIKE '%machine learning%')\n",
        "    OR (v.name ILIKE '%машинн%обучен%')\n",
        "    AND (v.key_skills IS NOT NULL)\n",
        "    )\n",
        "GROUP BY\n",
        "    v.experience\n",
        "'''"
      ]
    },
    {
      "cell_type": "code",
      "execution_count": null,
      "id": "23889b96",
      "metadata": {},
      "outputs": [],
      "source": [
        "df = pd.read_sql_query(query_6_7, connection)\n",
        "display(df)"
      ]
    },
    {
      "cell_type": "code",
      "execution_count": null,
      "id": "39ee1884",
      "metadata": {},
      "outputs": [],
      "source": []
    },
    {
      "cell_type": "markdown",
      "id": "6e744ac4",
      "metadata": {},
      "source": [
        "Общий вывод по проекту позволяет выделить несколько ключевых аспектов, касающихся рынка труда и зарплат в зависимости от опыта, а также распределения вакансий по компаниям и регионам.\n",
        "\n",
        "1. Зарплатные ожидания в зависимости от опыта: \n",
        "    - С увеличением профессионального опыта наблюдается значительный рост зарплат. Специалисты с опытом работы от 1 до 3 лет зарабатывают в среднем 145236.0, что существенно ниже, чем у тех, кто имеет 3-6 лет опыта (средняя зарплата 243115.0). Это подчеркивает важность опыта при определении уровня дохода. Отсутствие данных для категории \"Более 6 лет\" указывает на необходимость дополнительного исследования, чтобы получить полное представление о заработных платах самых опытных специалистов.\n",
        "    - Еще можно заметить что у специалистов с опытом работы (Более 6 лет) среднее кол-во навыков меньше по сравнению\n",
        "\n",
        "2. Активность компаний в наборе кадров: \n",
        "    - Наиболее активными работодателями на рынке являются Яндекс, Ростелеком, Тинькофф, СБЕР и Газпром нефть, что подтверждается их значительным количеством вакансий. Яндекс выделяется с 1933 вакансиями, что укрепляет его позицию как одного из главных игроков на рынке труда.\n",
        "\n",
        "3. Региональное распределение вакансий: \n",
        "    - Концентрация вакансий сосредоточена в крупных городах, таких как Москва и Санкт-Петербург. Это иллюстрирует тенденцию к сосредоточению рабочих мест в urban-центрах, что может отражать экономические и социальные факторы, способствующие притяжению талантов и ресурсов в крупных мегаполисах.\n",
        "\n",
        "В целом, изучение зарплат в зависимости от опыта, активности работодателей и распределения вакансий по регионам помогает лучше понять динамику рынка труда и может послужить руководством для соискателей при выборе места работы и планировании своей карьеры. Рекомендовано проводить дальнейшие исследования, в частности для визуализации более опытной категории работников, что позволит получить более полное представление о структуре зарплат."
      ]
    }
  ],
  "metadata": {
    "colab": {
      "collapsed_sections": [
        "8d62a9f3-f64e-4fe7-bdac-c4dffa16155e"
      ],
      "provenance": []
    },
    "kernelspec": {
      "display_name": "Python 3 (ipykernel)",
      "language": "python",
      "name": "python3"
    },
    "language_info": {
      "codemirror_mode": {
        "name": "ipython",
        "version": 3
      },
      "file_extension": ".py",
      "mimetype": "text/x-python",
      "name": "python",
      "nbconvert_exporter": "python",
      "pygments_lexer": "ipython3",
      "version": "3.12.3"
    }
  },
  "nbformat": 4,
  "nbformat_minor": 5
}
